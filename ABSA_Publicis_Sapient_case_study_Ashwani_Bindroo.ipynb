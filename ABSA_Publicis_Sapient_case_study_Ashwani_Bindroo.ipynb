{
 "cells": [
  {
   "cell_type": "markdown",
   "id": "507df65d-a260-4b19-ac49-e7befca92fb2",
   "metadata": {
    "editable": true,
    "slideshow": {
     "slide_type": ""
    },
    "tags": []
   },
   "source": [
    "**ABSA Case Study**\n",
    "\n",
    "To tackle the tasks outlined in the ABSA case study, I'll proceed step-by-step through each requirement, beginning with the development of the ABSA model. I'll first load and analyze the provided dataset to understand its structure and content. After that, I will build and train an ABSA model to extract aspect terms, determine aspect polarity, and identify aspect categories. Let's begin by examining the dataset.\n",
    "\n",
    "**Step 1: Load and Explore the Dataset:**: I'll start by loading the provided dataset and inspecting its structure in different ways. This will help us understand how the annotations are organized and how to preprocess the data for model training.\n",
    "\n",
    "**Step 2: Data Preprocessing:** Next, I'll preprocess the data to extract relevant information for each review, including the sentences, aspect terms, aspect categories, and sentiment polarity.\n",
    "\n",
    "**Step 3: ABSA Model Development:** I'll develop the ABSA model with the following components:\n",
    "\n",
    "    a. Aspect Term Extraction: Identify aspect terms in the text.\n",
    "    b. Aspect Term Polarity Detection: Determine the sentiment polarity (positive, negative, neutral, conflict) for each aspect term.\n",
    "    c. Aspect Category Detection: Classify aspect terms into predefined categories (e.g., food, service, price).\n",
    "\n",
    "**Step 4: Results Analysis:** After training the model, I'll analyze the results by visualizing the overall sentiment distribution and category-wise sentiment distribution using matplotlib/plotly.\n",
    "\n",
    "**Step 5: Actionable Insights:** Based on the analysis, I'll derive actionable insights and recommendations for the restaurant to improve overall customer satisfaction.\n",
    "\n",
    "**Step 6: Reporting:** Finally, I'll document the approach, findings, pros and cons, and potential improvements in a Jupyter notebook and PowerPoint presentation."
   ]
  },
  {
   "cell_type": "markdown",
   "id": "955229cd-da26-4bae-8361-e31264df12b5",
   "metadata": {},
   "source": [
    "# Loading and exploring the dataset"
   ]
  },
  {
   "cell_type": "code",
   "execution_count": 58,
   "id": "df366fe5-6263-4160-8e2e-d37a07004ce4",
   "metadata": {},
   "outputs": [
    {
     "name": "stdout",
     "output_type": "stream",
     "text": [
      "Review Text: But the staff was so horrible to us.\n",
      "Aspect Term: staff, Polarity: negative\n",
      "Aspect Category: service, Polarity: negative\n",
      "-----\n"
     ]
    }
   ],
   "source": [
    "import xml.etree.ElementTree as ET\n",
    "from xml.etree.ElementTree import Element\n",
    "\n",
    "# Loading the dataset\n",
    "file_path = r\"C:\\Users\\bindroo\\Restaurants_Train_v2.xml\"\n",
    "tree = ET.parse(file_path)\n",
    "root = tree.getroot()\n",
    "\n",
    "# Explore the structure of the data set\n",
    "\n",
    "for review in root.findall('sentence'):\n",
    "    text = review.find('text').text\n",
    "    print(\"Review Text:\", text)\n",
    "    \n",
    "    for aspect_term in review.findall('aspectTerms/aspectTerm'):\n",
    "        term = aspect_term.get('term')\n",
    "        polarity = aspect_term.get('polarity')\n",
    "        print(f\"Aspect Term: {term}, Polarity: {polarity}\")\n",
    "\n",
    "    for aspect_category in review.findall('aspectCategories/aspectCategory'):\n",
    "        category = aspect_category.get('category')\n",
    "        polarity = aspect_category.get('polarity')\n",
    "        print(f\"Aspect Category: {category}, Polarity: {polarity}\")\n",
    "    print(\"-----\")\n",
    "    break # prints only the first review for inspection\n",
    "    \n",
    "        \n"
   ]
  },
  {
   "cell_type": "code",
   "execution_count": 59,
   "id": "4b0aea99-d7cc-42b5-ae9d-0a1dd97c7078",
   "metadata": {},
   "outputs": [
    {
     "name": "stdout",
     "output_type": "stream",
     "text": [
      "Text: But the staff was so horrible to us.\n",
      "Extracted Aspects: ['staff']\n",
      "Text: To be completely fair, the only redeeming factor was the food, which was above average, but couldn't make up for all the other deficiencies of Teodora.\n",
      "Extracted Aspects: ['redeeming', 'factor', 'food', 'average', 'deficiencies', 'Teodora']\n",
      "Text: The food is uniformly exceptional, with a very capable kitchen which will proudly whip up whatever you feel like eating, whether it's on the menu or not.\n",
      "Extracted Aspects: ['food', 'kitchen', 'eating', 'menu']\n",
      "Text: Where Gabriela personaly greets you and recommends you what to eat.\n",
      "Extracted Aspects: ['Gabriela', 'greets']\n",
      "Text: For those that go once and don't enjoy it, all I can say is that they just don't get it.\n",
      "Extracted Aspects: []\n"
     ]
    },
    {
     "name": "stderr",
     "output_type": "stream",
     "text": [
      "[nltk_data] Downloading package punkt to\n",
      "[nltk_data]     C:\\Users\\bindroo\\AppData\\Roaming\\nltk_data...\n",
      "[nltk_data]   Package punkt is already up-to-date!\n",
      "[nltk_data] Downloading package averaged_perceptron_tagger to\n",
      "[nltk_data]     C:\\Users\\bindroo\\AppData\\Roaming\\nltk_data...\n",
      "[nltk_data]   Package averaged_perceptron_tagger is already up-to-\n",
      "[nltk_data]       date!\n"
     ]
    }
   ],
   "source": [
    "import nltk\n",
    "from nltk.tokenize import word_tokenize\n",
    "from nltk import pos_tag\n",
    "\n",
    "# Ensure nltk resources are downloaded\n",
    "nltk.download('punkt')\n",
    "nltk.download('averaged_perceptron_tagger')\n",
    "\n",
    "def extract_aspects(text):\n",
    "    words = word_tokenize(text)\n",
    "    pos_tags = pos_tag(words)\n",
    "    \n",
    "    # Identify aspect terms: we consider nouns (NN, NNS) and compound nouns (NNP, NNPS)\n",
    "    aspect_terms = []\n",
    "    for word, pos in pos_tags:\n",
    "        if pos in ['NN', 'NNS', 'NNP', 'NNPS']:\n",
    "            aspect_terms.append(word)\n",
    "    \n",
    "    return aspect_terms\n",
    "\n",
    "# Example usage\n",
    "for sample in data[:5]:\n",
    "    print(f\"Text: {sample['text']}\")\n",
    "    print(f\"Extracted Aspects: {extract_aspects(sample['text'])}\")\n"
   ]
  },
  {
   "cell_type": "code",
   "execution_count": 49,
   "id": "32d07124-37df-4adc-bb22-6221e8c31c8a",
   "metadata": {},
   "outputs": [
    {
     "name": "stdout",
     "output_type": "stream",
     "text": [
      "Aspect Term Polarity Detection Accuracy: 0.699594046008119\n"
     ]
    },
    {
     "name": "stderr",
     "output_type": "stream",
     "text": [
      "C:\\Users\\bindroo\\AppData\\Local\\anaconda3\\Lib\\site-packages\\sklearn\\svm\\_base.py:1244: ConvergenceWarning: Liblinear failed to converge, increase the number of iterations.\n",
      "  warnings.warn(\n"
     ]
    }
   ],
   "source": [
    "from sklearn.feature_extraction.text import CountVectorizer\n",
    "from sklearn.model_selection import train_test_split\n",
    "from sklearn.svm import LinearSVC\n",
    "\n",
    "# Prepare data\n",
    "texts = []\n",
    "polarities = []\n",
    "for sample in data:\n",
    "    for aspect in sample['aspects']:\n",
    "        texts.append(sample['text'])\n",
    "        polarities.append(aspect['polarity'])\n",
    "\n",
    "# Convert polarities to numeric\n",
    "polarities_num = [1 if p == 'positive' else -1 if p == 'negative' else 0 for p in polarities]\n",
    "\n",
    "# Vectorize text\n",
    "vectorizer = CountVectorizer()\n",
    "X = vectorizer.fit_transform(texts)\n",
    "y = polarities_num\n",
    "\n",
    "# Split data\n",
    "X_train, X_test, y_train, y_test = train_test_split(X, y, test_size=0.2, random_state=42)\n",
    "\n",
    "# Train classifier\n",
    "clf = LinearSVC()\n",
    "clf.fit(X_train, y_train)\n",
    "\n",
    "# Evaluate\n",
    "accuracy = clf.score(X_test, y_test)\n",
    "print(f\"Aspect Term Polarity Detection Accuracy: {accuracy}\")\n"
   ]
  },
  {
   "cell_type": "code",
   "execution_count": 50,
   "id": "71a782ec-5709-436e-9dab-f11ec522d9a3",
   "metadata": {},
   "outputs": [
    {
     "name": "stdout",
     "output_type": "stream",
     "text": [
      "Aspect Category Detection Accuracy: 0.9824086603518268\n"
     ]
    }
   ],
   "source": [
    "# Example mapping of aspect terms to categories for demonstration\n",
    "aspect_to_category = {\n",
    "    'food': 'food',\n",
    "    'service': 'service',\n",
    "    'price': 'price',\n",
    "    'ambience': 'ambience',\n",
    "    'staff': 'service',\n",
    "    'menu': 'food',\n",
    "    'environment': 'ambience',\n",
    "    'cost': 'price',\n",
    "    'value': 'price',\n",
    "    'experience': 'anecdotes/miscellaneous',\n",
    "    'quality': 'food',\n",
    "    'taste': 'food',\n",
    "    'flavor': 'food',\n",
    "    'waiter': 'service',\n",
    "    'music': 'ambience',\n",
    "    'decor': 'ambience',\n",
    "    'cleanliness': 'ambience'\n",
    "}\n",
    "\n",
    "# Prepare data with proper categories\n",
    "aspect_terms = []\n",
    "aspect_categories = []\n",
    "for sample in data:\n",
    "    for aspect in sample['aspects']:\n",
    "        term = aspect['term'].lower()  # Normalize to lowercase\n",
    "        category = aspect_to_category.get(term, 'anecdotes/miscellaneous')\n",
    "        aspect_terms.append(term)\n",
    "        aspect_categories.append(category)\n",
    "\n",
    "# Encode categories\n",
    "le = LabelEncoder()\n",
    "y_categories = le.fit_transform(aspect_categories)\n",
    "\n",
    "# Vectorize aspect terms\n",
    "X_aspect_terms = vectorizer.fit_transform(aspect_terms)\n",
    "\n",
    "# Split data\n",
    "X_train_cat, X_test_cat, y_train_cat, y_test_cat = train_test_split(X_aspect_terms, y_categories, test_size=0.2, random_state=42)\n",
    "\n",
    "# Train classifier\n",
    "clf_cat = LinearSVC()\n",
    "clf_cat.fit(X_train_cat, y_train_cat)\n",
    "\n",
    "# Evaluate\n",
    "accuracy_cat = clf_cat.score(X_test_cat, y_test_cat)\n",
    "print(f\"Aspect Category Detection Accuracy: {accuracy_cat}\")\n"
   ]
  },
  {
   "cell_type": "code",
   "execution_count": 51,
   "id": "223da2c9-2c22-4d67-aca7-eaff1d80278d",
   "metadata": {},
   "outputs": [
    {
     "data": {
      "image/png": "[encoded data removed]",
      "text/plain": [
       "<Figure size 1000x500 with 1 Axes>"
      ]
     },
     "metadata": {},
     "output_type": "display_data"
    }
   ],
   "source": [
    "import matplotlib.pyplot as plt\n",
    "\n",
    "# Count polarities\n",
    "polarity_counts = {'positive': 0, 'negative': 0, 'neutral': 0, 'conflict': 0}\n",
    "for sample in data:\n",
    "    for aspect in sample['aspects']:\n",
    "        polarity_counts[aspect['polarity']] += 1\n",
    "\n",
    "# Plot distribution\n",
    "labels = polarity_counts.keys()\n",
    "sizes = polarity_counts.values()\n",
    "\n",
    "plt.figure(figsize=(10, 5))\n",
    "plt.pie(sizes, labels=labels, autopct='%1.1f%%', startangle=140)\n",
    "plt.axis('equal')\n",
    "plt.title('Overall Sentiment Distribution')\n",
    "plt.show()\n"
   ]
  },
  {
   "cell_type": "code",
   "execution_count": 70,
   "id": "758954af-9890-4453-8b71-194313aa56e4",
   "metadata": {},
   "outputs": [
    {
     "data": {
      "application/vnd.plotly.v1+json": {
       "config": {
        "plotlyServerURL": "https://plot.ly"
       },
       "data": [
        {
         "alignmentgroup": "True",
         "customdata": [
          [
           60.38543897216274
          ],
          [
           62.30529595015576
          ],
          [
           62.96296296296296
          ],
          [
           68.57142857142857
          ],
          [
           57.53326141675657
          ]
         ],
         "hovertemplate": "Category: %{x}<br>Polarity: %{color}<br>Count: %{y}<br>Percentage: %{text:.2f}%<extra></extra>",
         "legendgroup": "positive",
         "marker": {
          "color": "#636efa",
          "pattern": {
           "shape": ""
          }
         },
         "name": "positive",
         "offsetgroup": "positive",
         "orientation": "v",
         "showlegend": true,
         "text": [
          60.38543897216274,
          62.30529595015576,
          62.96296296296296,
          68.57142857142857,
          57.53326141675657
         ],
         "textposition": "outside",
         "texttemplate": "%{text:.2f}%",
         "type": "bar",
         "x": [
          "food",
          "service",
          "price",
          "ambience",
          "anecdotes/miscellaneous"
         ],
         "xaxis": "x",
         "y": [
          282,
          200,
          34,
          48,
          1600
         ],
         "yaxis": "y"
        },
        {
         "alignmentgroup": "True",
         "customdata": [
          [
           19.48608137044968
          ],
          [
           26.479750778816197
          ],
          [
           25.925925925925924
          ],
          [
           17.142857142857142
          ],
          [
           21.68284789644013
          ]
         ],
         "hovertemplate": "Category: %{x}<br>Polarity: %{color}<br>Count: %{y}<br>Percentage: %{text:.2f}%<extra></extra>",
         "legendgroup": "negative",
         "marker": {
          "color": "#EF553B",
          "pattern": {
           "shape": ""
          }
         },
         "name": "negative",
         "offsetgroup": "negative",
         "orientation": "v",
         "showlegend": true,
         "text": [
          19.48608137044968,
          26.479750778816197,
          25.925925925925924,
          17.142857142857142,
          21.68284789644013
         ],
         "textposition": "outside",
         "texttemplate": "%{text:.2f}%",
         "type": "bar",
         "x": [
          "food",
          "service",
          "price",
          "ambience",
          "anecdotes/miscellaneous"
         ],
         "xaxis": "x",
         "y": [
          91,
          85,
          14,
          12,
          603
         ],
         "yaxis": "y"
        },
        {
         "alignmentgroup": "True",
         "customdata": [
          [
           16.274089935760173
          ],
          [
           6.5420560747663545
          ],
          [
           7.4074074074074066
          ],
          [
           8.571428571428571
          ],
          [
           18.91405969075872
          ]
         ],
         "hovertemplate": "Category: %{x}<br>Polarity: %{color}<br>Count: %{y}<br>Percentage: %{text:.2f}%<extra></extra>",
         "legendgroup": "neutral",
         "marker": {
          "color": "#00cc96",
          "pattern": {
           "shape": ""
          }
         },
         "name": "neutral",
         "offsetgroup": "neutral",
         "orientation": "v",
         "showlegend": true,
         "text": [
          16.274089935760173,
          6.5420560747663545,
          7.4074074074074066,
          8.571428571428571,
          18.91405969075872
         ],
         "textposition": "outside",
         "texttemplate": "%{text:.2f}%",
         "type": "bar",
         "x": [
          "food",
          "service",
          "price",
          "ambience",
          "anecdotes/miscellaneous"
         ],
         "xaxis": "x",
         "y": [
          76,
          21,
          4,
          6,
          526
         ],
         "yaxis": "y"
        },
        {
         "alignmentgroup": "True",
         "customdata": [
          [
           3.854389721627409
          ],
          [
           4.672897196261682
          ],
          [
           3.7037037037037033
          ],
          [
           5.714285714285714
          ],
          [
           1.8698309960445882
          ]
         ],
         "hovertemplate": "Category: %{x}<br>Polarity: %{color}<br>Count: %{y}<br>Percentage: %{text:.2f}%<extra></extra>",
         "legendgroup": "conflict",
         "marker": {
          "color": "#ab63fa",
          "pattern": {
           "shape": ""
          }
         },
         "name": "conflict",
         "offsetgroup": "conflict",
         "orientation": "v",
         "showlegend": true,
         "text": [
          3.854389721627409,
          4.672897196261682,
          3.7037037037037033,
          5.714285714285714,
          1.8698309960445882
         ],
         "textposition": "outside",
         "texttemplate": "%{text:.2f}%",
         "type": "bar",
         "x": [
          "food",
          "service",
          "price",
          "ambience",
          "anecdotes/miscellaneous"
         ],
         "xaxis": "x",
         "y": [
          18,
          15,
          2,
          4,
          52
         ],
         "yaxis": "y"
        }
       ],
       "layout": {
        "autosize": true,
        "barmode": "stack",
        "legend": {
         "title": {
          "text": "polarity"
         },
         "tracegroupgap": 0
        },
        "template": {
         "data": {
          "bar": [
           {
            "error_x": {
             "color": "#2a3f5f"
            },
            "error_y": {
             "color": "#2a3f5f"
            },
            "marker": {
             "line": {
              "color": "#E5ECF6",
              "width": 0.5
             },
             "pattern": {
              "fillmode": "overlay",
              "size": 10,
              "solidity": 0.2
             }
            },
            "type": "bar"
           }
          ],
          "barpolar": [
           {
            "marker": {
             "line": {
              "color": "#E5ECF6",
              "width": 0.5
             },
             "pattern": {
              "fillmode": "overlay",
              "size": 10,
              "solidity": 0.2
             }
            },
            "type": "barpolar"
           }
          ],
          "carpet": [
           {
            "aaxis": {
             "endlinecolor": "#2a3f5f",
             "gridcolor": "white",
             "linecolor": "white",
             "minorgridcolor": "white",
             "startlinecolor": "#2a3f5f"
            },
            "baxis": {
             "endlinecolor": "#2a3f5f",
             "gridcolor": "white",
             "linecolor": "white",
             "minorgridcolor": "white",
             "startlinecolor": "#2a3f5f"
            },
            "type": "carpet"
           }
          ],
          "choropleth": [
           {
            "colorbar": {
             "outlinewidth": 0,
             "ticks": ""
            },
            "type": "choropleth"
           }
          ],
          "contour": [
           {
            "colorbar": {
             "outlinewidth": 0,
             "ticks": ""
            },
            "colorscale": [
             [
              0,
              "#0d0887"
             ],
             [
              0.1111111111111111,
              "#46039f"
             ],
             [
              0.2222222222222222,
              "#7201a8"
             ],
             [
              0.3333333333333333,
              "#9c179e"
             ],
             [
              0.4444444444444444,
              "#bd3786"
             ],
             [
              0.5555555555555556,
              "#d8576b"
             ],
             [
              0.6666666666666666,
              "#ed7953"
             ],
             [
              0.7777777777777778,
              "#fb9f3a"
             ],
             [
              0.8888888888888888,
              "#fdca26"
             ],
             [
              1,
              "#f0f921"
             ]
            ],
            "type": "contour"
           }
          ],
          "contourcarpet": [
           {
            "colorbar": {
             "outlinewidth": 0,
             "ticks": ""
            },
            "type": "contourcarpet"
           }
          ],
          "heatmap": [
           {
            "colorbar": {
             "outlinewidth": 0,
             "ticks": ""
            },
            "colorscale": [
             [
              0,
              "#0d0887"
             ],
             [
              0.1111111111111111,
              "#46039f"
             ],
             [
              0.2222222222222222,
              "#7201a8"
             ],
             [
              0.3333333333333333,
              "#9c179e"
             ],
             [
              0.4444444444444444,
              "#bd3786"
             ],
             [
              0.5555555555555556,
              "#d8576b"
             ],
             [
              0.6666666666666666,
              "#ed7953"
             ],
             [
              0.7777777777777778,
              "#fb9f3a"
             ],
             [
              0.8888888888888888,
              "#fdca26"
             ],
             [
              1,
              "#f0f921"
             ]
            ],
            "type": "heatmap"
           }
          ],
          "heatmapgl": [
           {
            "colorbar": {
             "outlinewidth": 0,
             "ticks": ""
            },
            "colorscale": [
             [
              0,
              "#0d0887"
             ],
             [
              0.1111111111111111,
              "#46039f"
             ],
             [
              0.2222222222222222,
              "#7201a8"
             ],
             [
              0.3333333333333333,
              "#9c179e"
             ],
             [
              0.4444444444444444,
              "#bd3786"
             ],
             [
              0.5555555555555556,
              "#d8576b"
             ],
             [
              0.6666666666666666,
              "#ed7953"
             ],
             [
              0.7777777777777778,
              "#fb9f3a"
             ],
             [
              0.8888888888888888,
              "#fdca26"
             ],
             [
              1,
              "#f0f921"
             ]
            ],
            "type": "heatmapgl"
           }
          ],
          "histogram": [
           {
            "marker": {
             "pattern": {
              "fillmode": "overlay",
              "size": 10,
              "solidity": 0.2
             }
            },
            "type": "histogram"
           }
          ],
          "histogram2d": [
           {
            "colorbar": {
             "outlinewidth": 0,
             "ticks": ""
            },
            "colorscale": [
             [
              0,
              "#0d0887"
             ],
             [
              0.1111111111111111,
              "#46039f"
             ],
             [
              0.2222222222222222,
              "#7201a8"
             ],
             [
              0.3333333333333333,
              "#9c179e"
             ],
             [
              0.4444444444444444,
              "#bd3786"
             ],
             [
              0.5555555555555556,
              "#d8576b"
             ],
             [
              0.6666666666666666,
              "#ed7953"
             ],
             [
              0.7777777777777778,
              "#fb9f3a"
             ],
             [
              0.8888888888888888,
              "#fdca26"
             ],
             [
              1,
              "#f0f921"
             ]
            ],
            "type": "histogram2d"
           }
          ],
          "histogram2dcontour": [
           {
            "colorbar": {
             "outlinewidth": 0,
             "ticks": ""
            },
            "colorscale": [
             [
              0,
              "#0d0887"
             ],
             [
              0.1111111111111111,
              "#46039f"
             ],
             [
              0.2222222222222222,
              "#7201a8"
             ],
             [
              0.3333333333333333,
              "#9c179e"
             ],
             [
              0.4444444444444444,
              "#bd3786"
             ],
             [
              0.5555555555555556,
              "#d8576b"
             ],
             [
              0.6666666666666666,
              "#ed7953"
             ],
             [
              0.7777777777777778,
              "#fb9f3a"
             ],
             [
              0.8888888888888888,
              "#fdca26"
             ],
             [
              1,
              "#f0f921"
             ]
            ],
            "type": "histogram2dcontour"
           }
          ],
          "mesh3d": [
           {
            "colorbar": {
             "outlinewidth": 0,
             "ticks": ""
            },
            "type": "mesh3d"
           }
          ],
          "parcoords": [
           {
            "line": {
             "colorbar": {
              "outlinewidth": 0,
              "ticks": ""
             }
            },
            "type": "parcoords"
           }
          ],
          "pie": [
           {
            "automargin": true,
            "type": "pie"
           }
          ],
          "scatter": [
           {
            "fillpattern": {
             "fillmode": "overlay",
             "size": 10,
             "solidity": 0.2
            },
            "type": "scatter"
           }
          ],
          "scatter3d": [
           {
            "line": {
             "colorbar": {
              "outlinewidth": 0,
              "ticks": ""
             }
            },
            "marker": {
             "colorbar": {
              "outlinewidth": 0,
              "ticks": ""
             }
            },
            "type": "scatter3d"
           }
          ],
          "scattercarpet": [
           {
            "marker": {
             "colorbar": {
              "outlinewidth": 0,
              "ticks": ""
             }
            },
            "type": "scattercarpet"
           }
          ],
          "scattergeo": [
           {
            "marker": {
             "colorbar": {
              "outlinewidth": 0,
              "ticks": ""
             }
            },
            "type": "scattergeo"
           }
          ],
          "scattergl": [
           {
            "marker": {
             "colorbar": {
              "outlinewidth": 0,
              "ticks": ""
             }
            },
            "type": "scattergl"
           }
          ],
          "scattermapbox": [
           {
            "marker": {
             "colorbar": {
              "outlinewidth": 0,
              "ticks": ""
             }
            },
            "type": "scattermapbox"
           }
          ],
          "scatterpolar": [
           {
            "marker": {
             "colorbar": {
              "outlinewidth": 0,
              "ticks": ""
             }
            },
            "type": "scatterpolar"
           }
          ],
          "scatterpolargl": [
           {
            "marker": {
             "colorbar": {
              "outlinewidth": 0,
              "ticks": ""
             }
            },
            "type": "scatterpolargl"
           }
          ],
          "scatterternary": [
           {
            "marker": {
             "colorbar": {
              "outlinewidth": 0,
              "ticks": ""
             }
            },
            "type": "scatterternary"
           }
          ],
          "surface": [
           {
            "colorbar": {
             "outlinewidth": 0,
             "ticks": ""
            },
            "colorscale": [
             [
              0,
              "#0d0887"
             ],
             [
              0.1111111111111111,
              "#46039f"
             ],
             [
              0.2222222222222222,
              "#7201a8"
             ],
             [
              0.3333333333333333,
              "#9c179e"
             ],
             [
              0.4444444444444444,
              "#bd3786"
             ],
             [
              0.5555555555555556,
              "#d8576b"
             ],
             [
              0.6666666666666666,
              "#ed7953"
             ],
             [
              0.7777777777777778,
              "#fb9f3a"
             ],
             [
              0.8888888888888888,
              "#fdca26"
             ],
             [
              1,
              "#f0f921"
             ]
            ],
            "type": "surface"
           }
          ],
          "table": [
           {
            "cells": {
             "fill": {
              "color": "#EBF0F8"
             },
             "line": {
              "color": "white"
             }
            },
            "header": {
             "fill": {
              "color": "#C8D4E3"
             },
             "line": {
              "color": "white"
             }
            },
            "type": "table"
           }
          ]
         },
         "layout": {
          "annotationdefaults": {
           "arrowcolor": "#2a3f5f",
           "arrowhead": 0,
           "arrowwidth": 1
          },
          "autotypenumbers": "strict",
          "coloraxis": {
           "colorbar": {
            "outlinewidth": 0,
            "ticks": ""
           }
          },
          "colorscale": {
           "diverging": [
            [
             0,
             "#8e0152"
            ],
            [
             0.1,
             "#c51b7d"
            ],
            [
             0.2,
             "#de77ae"
            ],
            [
             0.3,
             "#f1b6da"
            ],
            [
             0.4,
             "#fde0ef"
            ],
            [
             0.5,
             "#f7f7f7"
            ],
            [
             0.6,
             "#e6f5d0"
            ],
            [
             0.7,
             "#b8e186"
            ],
            [
             0.8,
             "#7fbc41"
            ],
            [
             0.9,
             "#4d9221"
            ],
            [
             1,
             "#276419"
            ]
           ],
           "sequential": [
            [
             0,
             "#0d0887"
            ],
            [
             0.1111111111111111,
             "#46039f"
            ],
            [
             0.2222222222222222,
             "#7201a8"
            ],
            [
             0.3333333333333333,
             "#9c179e"
            ],
            [
             0.4444444444444444,
             "#bd3786"
            ],
            [
             0.5555555555555556,
             "#d8576b"
            ],
            [
             0.6666666666666666,
             "#ed7953"
            ],
            [
             0.7777777777777778,
             "#fb9f3a"
            ],
            [
             0.8888888888888888,
             "#fdca26"
            ],
            [
             1,
             "#f0f921"
            ]
           ],
           "sequentialminus": [
            [
             0,
             "#0d0887"
            ],
            [
             0.1111111111111111,
             "#46039f"
            ],
            [
             0.2222222222222222,
             "#7201a8"
            ],
            [
             0.3333333333333333,
             "#9c179e"
            ],
            [
             0.4444444444444444,
             "#bd3786"
            ],
            [
             0.5555555555555556,
             "#d8576b"
            ],
            [
             0.6666666666666666,
             "#ed7953"
            ],
            [
             0.7777777777777778,
             "#fb9f3a"
            ],
            [
             0.8888888888888888,
             "#fdca26"
            ],
            [
             1,
             "#f0f921"
            ]
           ]
          },
          "colorway": [
           "#636efa",
           "#EF553B",
           "#00cc96",
           "#ab63fa",
           "#FFA15A",
           "#19d3f3",
           "#FF6692",
           "#B6E880",
           "#FF97FF",
           "#FECB52"
          ],
          "font": {
           "color": "#2a3f5f"
          },
          "geo": {
           "bgcolor": "white",
           "lakecolor": "white",
           "landcolor": "#E5ECF6",
           "showlakes": true,
           "showland": true,
           "subunitcolor": "white"
          },
          "hoverlabel": {
           "align": "left"
          },
          "hovermode": "closest",
          "mapbox": {
           "style": "light"
          },
          "paper_bgcolor": "white",
          "plot_bgcolor": "#E5ECF6",
          "polar": {
           "angularaxis": {
            "gridcolor": "white",
            "linecolor": "white",
            "ticks": ""
           },
           "bgcolor": "#E5ECF6",
           "radialaxis": {
            "gridcolor": "white",
            "linecolor": "white",
            "ticks": ""
           }
          },
          "scene": {
           "xaxis": {
            "backgroundcolor": "#E5ECF6",
            "gridcolor": "white",
            "gridwidth": 2,
            "linecolor": "white",
            "showbackground": true,
            "ticks": "",
            "zerolinecolor": "white"
           },
           "yaxis": {
            "backgroundcolor": "#E5ECF6",
            "gridcolor": "white",
            "gridwidth": 2,
            "linecolor": "white",
            "showbackground": true,
            "ticks": "",
            "zerolinecolor": "white"
           },
           "zaxis": {
            "backgroundcolor": "#E5ECF6",
            "gridcolor": "white",
            "gridwidth": 2,
            "linecolor": "white",
            "showbackground": true,
            "ticks": "",
            "zerolinecolor": "white"
           }
          },
          "shapedefaults": {
           "line": {
            "color": "#2a3f5f"
           }
          },
          "ternary": {
           "aaxis": {
            "gridcolor": "white",
            "linecolor": "white",
            "ticks": ""
           },
           "baxis": {
            "gridcolor": "white",
            "linecolor": "white",
            "ticks": ""
           },
           "bgcolor": "#E5ECF6",
           "caxis": {
            "gridcolor": "white",
            "linecolor": "white",
            "ticks": ""
           }
          },
          "title": {
           "x": 0.05
          },
          "xaxis": {
           "automargin": true,
           "gridcolor": "white",
           "linecolor": "white",
           "ticks": "",
           "title": {
            "standoff": 15
           },
           "zerolinecolor": "white",
           "zerolinewidth": 2
          },
          "yaxis": {
           "automargin": true,
           "gridcolor": "white",
           "linecolor": "white",
           "ticks": "",
           "title": {
            "standoff": 15
           },
           "zerolinecolor": "white",
           "zerolinewidth": 2
          }
         }
        },
        "title": {
         "text": "Category-wise Sentiment Distribution"
        },
        "xaxis": {
         "anchor": "y",
         "autorange": true,
         "domain": [
          0,
          1
         ],
         "range": [
          -0.5,
          4.5
         ],
         "title": {
          "text": "Aspect Categories"
         },
         "type": "category"
        },
        "yaxis": {
         "anchor": "x",
         "autorange": true,
         "domain": [
          0,
          1
         ],
         "range": [
          0,
          2927.3684210526317
         ],
         "title": {
          "text": "Counts"
         },
         "type": "linear"
        }
       }
      },
      "image/png": "[encoded data removed]",
      "text/html": [
       "<div>                            <div id=\"6f900566-97c6-4675-a1f1-8b81a93bb7aa\" class=\"plotly-graph-div\" style=\"height:525px; width:100%;\"></div>            <script type=\"text/javascript\">                require([\"plotly\"], function(Plotly) {                    window.PLOTLYENV=window.PLOTLYENV || {};                                    if (document.getElementById(\"6f900566-97c6-4675-a1f1-8b81a93bb7aa\")) {                    Plotly.newPlot(                        \"6f900566-97c6-4675-a1f1-8b81a93bb7aa\",                        [{\"alignmentgroup\":\"True\",\"customdata\":[[60.38543897216274],[62.30529595015576],[62.96296296296296],[68.57142857142857],[57.53326141675657]],\"hovertemplate\":\"Category: %{x}<br>Polarity: %{color}<br>Count: %{y}<br>Percentage: %{text:.2f}%<extra></extra>\",\"legendgroup\":\"positive\",\"marker\":{\"color\":\"#636efa\",\"pattern\":{\"shape\":\"\"}},\"name\":\"positive\",\"offsetgroup\":\"positive\",\"orientation\":\"v\",\"showlegend\":true,\"text\":[60.38543897216274,62.30529595015576,62.96296296296296,68.57142857142857,57.53326141675657],\"textposition\":\"outside\",\"x\":[\"food\",\"service\",\"price\",\"ambience\",\"anecdotes/miscellaneous\"],\"xaxis\":\"x\",\"y\":[282,200,34,48,1600],\"yaxis\":\"y\",\"type\":\"bar\",\"texttemplate\":\"%{text:.2f}%\"},{\"alignmentgroup\":\"True\",\"customdata\":[[19.48608137044968],[26.479750778816197],[25.925925925925924],[17.142857142857142],[21.68284789644013]],\"hovertemplate\":\"Category: %{x}<br>Polarity: %{color}<br>Count: %{y}<br>Percentage: %{text:.2f}%<extra></extra>\",\"legendgroup\":\"negative\",\"marker\":{\"color\":\"#EF553B\",\"pattern\":{\"shape\":\"\"}},\"name\":\"negative\",\"offsetgroup\":\"negative\",\"orientation\":\"v\",\"showlegend\":true,\"text\":[19.48608137044968,26.479750778816197,25.925925925925924,17.142857142857142,21.68284789644013],\"textposition\":\"outside\",\"x\":[\"food\",\"service\",\"price\",\"ambience\",\"anecdotes/miscellaneous\"],\"xaxis\":\"x\",\"y\":[91,85,14,12,603],\"yaxis\":\"y\",\"type\":\"bar\",\"texttemplate\":\"%{text:.2f}%\"},{\"alignmentgroup\":\"True\",\"customdata\":[[16.274089935760173],[6.5420560747663545],[7.4074074074074066],[8.571428571428571],[18.91405969075872]],\"hovertemplate\":\"Category: %{x}<br>Polarity: %{color}<br>Count: %{y}<br>Percentage: %{text:.2f}%<extra></extra>\",\"legendgroup\":\"neutral\",\"marker\":{\"color\":\"#00cc96\",\"pattern\":{\"shape\":\"\"}},\"name\":\"neutral\",\"offsetgroup\":\"neutral\",\"orientation\":\"v\",\"showlegend\":true,\"text\":[16.274089935760173,6.5420560747663545,7.4074074074074066,8.571428571428571,18.91405969075872],\"textposition\":\"outside\",\"x\":[\"food\",\"service\",\"price\",\"ambience\",\"anecdotes/miscellaneous\"],\"xaxis\":\"x\",\"y\":[76,21,4,6,526],\"yaxis\":\"y\",\"type\":\"bar\",\"texttemplate\":\"%{text:.2f}%\"},{\"alignmentgroup\":\"True\",\"customdata\":[[3.854389721627409],[4.672897196261682],[3.7037037037037033],[5.714285714285714],[1.8698309960445882]],\"hovertemplate\":\"Category: %{x}<br>Polarity: %{color}<br>Count: %{y}<br>Percentage: %{text:.2f}%<extra></extra>\",\"legendgroup\":\"conflict\",\"marker\":{\"color\":\"#ab63fa\",\"pattern\":{\"shape\":\"\"}},\"name\":\"conflict\",\"offsetgroup\":\"conflict\",\"orientation\":\"v\",\"showlegend\":true,\"text\":[3.854389721627409,4.672897196261682,3.7037037037037033,5.714285714285714,1.8698309960445882],\"textposition\":\"outside\",\"x\":[\"food\",\"service\",\"price\",\"ambience\",\"anecdotes/miscellaneous\"],\"xaxis\":\"x\",\"y\":[18,15,2,4,52],\"yaxis\":\"y\",\"type\":\"bar\",\"texttemplate\":\"%{text:.2f}%\"}],                        {\"template\":{\"data\":{\"histogram2dcontour\":[{\"type\":\"histogram2dcontour\",\"colorbar\":{\"outlinewidth\":0,\"ticks\":\"\"},\"colorscale\":[[0.0,\"#0d0887\"],[0.1111111111111111,\"#46039f\"],[0.2222222222222222,\"#7201a8\"],[0.3333333333333333,\"#9c179e\"],[0.4444444444444444,\"#bd3786\"],[0.5555555555555556,\"#d8576b\"],[0.6666666666666666,\"#ed7953\"],[0.7777777777777778,\"#fb9f3a\"],[0.8888888888888888,\"#fdca26\"],[1.0,\"#f0f921\"]]}],\"choropleth\":[{\"type\":\"choropleth\",\"colorbar\":{\"outlinewidth\":0,\"ticks\":\"\"}}],\"histogram2d\":[{\"type\":\"histogram2d\",\"colorbar\":{\"outlinewidth\":0,\"ticks\":\"\"},\"colorscale\":[[0.0,\"#0d0887\"],[0.1111111111111111,\"#46039f\"],[0.2222222222222222,\"#7201a8\"],[0.3333333333333333,\"#9c179e\"],[0.4444444444444444,\"#bd3786\"],[0.5555555555555556,\"#d8576b\"],[0.6666666666666666,\"#ed7953\"],[0.7777777777777778,\"#fb9f3a\"],[0.8888888888888888,\"#fdca26\"],[1.0,\"#f0f921\"]]}],\"heatmap\":[{\"type\":\"heatmap\",\"colorbar\":{\"outlinewidth\":0,\"ticks\":\"\"},\"colorscale\":[[0.0,\"#0d0887\"],[0.1111111111111111,\"#46039f\"],[0.2222222222222222,\"#7201a8\"],[0.3333333333333333,\"#9c179e\"],[0.4444444444444444,\"#bd3786\"],[0.5555555555555556,\"#d8576b\"],[0.6666666666666666,\"#ed7953\"],[0.7777777777777778,\"#fb9f3a\"],[0.8888888888888888,\"#fdca26\"],[1.0,\"#f0f921\"]]}],\"heatmapgl\":[{\"type\":\"heatmapgl\",\"colorbar\":{\"outlinewidth\":0,\"ticks\":\"\"},\"colorscale\":[[0.0,\"#0d0887\"],[0.1111111111111111,\"#46039f\"],[0.2222222222222222,\"#7201a8\"],[0.3333333333333333,\"#9c179e\"],[0.4444444444444444,\"#bd3786\"],[0.5555555555555556,\"#d8576b\"],[0.6666666666666666,\"#ed7953\"],[0.7777777777777778,\"#fb9f3a\"],[0.8888888888888888,\"#fdca26\"],[1.0,\"#f0f921\"]]}],\"contourcarpet\":[{\"type\":\"contourcarpet\",\"colorbar\":{\"outlinewidth\":0,\"ticks\":\"\"}}],\"contour\":[{\"type\":\"contour\",\"colorbar\":{\"outlinewidth\":0,\"ticks\":\"\"},\"colorscale\":[[0.0,\"#0d0887\"],[0.1111111111111111,\"#46039f\"],[0.2222222222222222,\"#7201a8\"],[0.3333333333333333,\"#9c179e\"],[0.4444444444444444,\"#bd3786\"],[0.5555555555555556,\"#d8576b\"],[0.6666666666666666,\"#ed7953\"],[0.7777777777777778,\"#fb9f3a\"],[0.8888888888888888,\"#fdca26\"],[1.0,\"#f0f921\"]]}],\"surface\":[{\"type\":\"surface\",\"colorbar\":{\"outlinewidth\":0,\"ticks\":\"\"},\"colorscale\":[[0.0,\"#0d0887\"],[0.1111111111111111,\"#46039f\"],[0.2222222222222222,\"#7201a8\"],[0.3333333333333333,\"#9c179e\"],[0.4444444444444444,\"#bd3786\"],[0.5555555555555556,\"#d8576b\"],[0.6666666666666666,\"#ed7953\"],[0.7777777777777778,\"#fb9f3a\"],[0.8888888888888888,\"#fdca26\"],[1.0,\"#f0f921\"]]}],\"mesh3d\":[{\"type\":\"mesh3d\",\"colorbar\":{\"outlinewidth\":0,\"ticks\":\"\"}}],\"scatter\":[{\"fillpattern\":{\"fillmode\":\"overlay\",\"size\":10,\"solidity\":0.2},\"type\":\"scatter\"}],\"parcoords\":[{\"type\":\"parcoords\",\"line\":{\"colorbar\":{\"outlinewidth\":0,\"ticks\":\"\"}}}],\"scatterpolargl\":[{\"type\":\"scatterpolargl\",\"marker\":{\"colorbar\":{\"outlinewidth\":0,\"ticks\":\"\"}}}],\"bar\":[{\"error_x\":{\"color\":\"#2a3f5f\"},\"error_y\":{\"color\":\"#2a3f5f\"},\"marker\":{\"line\":{\"color\":\"#E5ECF6\",\"width\":0.5},\"pattern\":{\"fillmode\":\"overlay\",\"size\":10,\"solidity\":0.2}},\"type\":\"bar\"}],\"scattergeo\":[{\"type\":\"scattergeo\",\"marker\":{\"colorbar\":{\"outlinewidth\":0,\"ticks\":\"\"}}}],\"scatterpolar\":[{\"type\":\"scatterpolar\",\"marker\":{\"colorbar\":{\"outlinewidth\":0,\"ticks\":\"\"}}}],\"histogram\":[{\"marker\":{\"pattern\":{\"fillmode\":\"overlay\",\"size\":10,\"solidity\":0.2}},\"type\":\"histogram\"}],\"scattergl\":[{\"type\":\"scattergl\",\"marker\":{\"colorbar\":{\"outlinewidth\":0,\"ticks\":\"\"}}}],\"scatter3d\":[{\"type\":\"scatter3d\",\"line\":{\"colorbar\":{\"outlinewidth\":0,\"ticks\":\"\"}},\"marker\":{\"colorbar\":{\"outlinewidth\":0,\"ticks\":\"\"}}}],\"scattermapbox\":[{\"type\":\"scattermapbox\",\"marker\":{\"colorbar\":{\"outlinewidth\":0,\"ticks\":\"\"}}}],\"scatterternary\":[{\"type\":\"scatterternary\",\"marker\":{\"colorbar\":{\"outlinewidth\":0,\"ticks\":\"\"}}}],\"scattercarpet\":[{\"type\":\"scattercarpet\",\"marker\":{\"colorbar\":{\"outlinewidth\":0,\"ticks\":\"\"}}}],\"carpet\":[{\"aaxis\":{\"endlinecolor\":\"#2a3f5f\",\"gridcolor\":\"white\",\"linecolor\":\"white\",\"minorgridcolor\":\"white\",\"startlinecolor\":\"#2a3f5f\"},\"baxis\":{\"endlinecolor\":\"#2a3f5f\",\"gridcolor\":\"white\",\"linecolor\":\"white\",\"minorgridcolor\":\"white\",\"startlinecolor\":\"#2a3f5f\"},\"type\":\"carpet\"}],\"table\":[{\"cells\":{\"fill\":{\"color\":\"#EBF0F8\"},\"line\":{\"color\":\"white\"}},\"header\":{\"fill\":{\"color\":\"#C8D4E3\"},\"line\":{\"color\":\"white\"}},\"type\":\"table\"}],\"barpolar\":[{\"marker\":{\"line\":{\"color\":\"#E5ECF6\",\"width\":0.5},\"pattern\":{\"fillmode\":\"overlay\",\"size\":10,\"solidity\":0.2}},\"type\":\"barpolar\"}],\"pie\":[{\"automargin\":true,\"type\":\"pie\"}]},\"layout\":{\"autotypenumbers\":\"strict\",\"colorway\":[\"#636efa\",\"#EF553B\",\"#00cc96\",\"#ab63fa\",\"#FFA15A\",\"#19d3f3\",\"#FF6692\",\"#B6E880\",\"#FF97FF\",\"#FECB52\"],\"font\":{\"color\":\"#2a3f5f\"},\"hovermode\":\"closest\",\"hoverlabel\":{\"align\":\"left\"},\"paper_bgcolor\":\"white\",\"plot_bgcolor\":\"#E5ECF6\",\"polar\":{\"bgcolor\":\"#E5ECF6\",\"angularaxis\":{\"gridcolor\":\"white\",\"linecolor\":\"white\",\"ticks\":\"\"},\"radialaxis\":{\"gridcolor\":\"white\",\"linecolor\":\"white\",\"ticks\":\"\"}},\"ternary\":{\"bgcolor\":\"#E5ECF6\",\"aaxis\":{\"gridcolor\":\"white\",\"linecolor\":\"white\",\"ticks\":\"\"},\"baxis\":{\"gridcolor\":\"white\",\"linecolor\":\"white\",\"ticks\":\"\"},\"caxis\":{\"gridcolor\":\"white\",\"linecolor\":\"white\",\"ticks\":\"\"}},\"coloraxis\":{\"colorbar\":{\"outlinewidth\":0,\"ticks\":\"\"}},\"colorscale\":{\"sequential\":[[0.0,\"#0d0887\"],[0.1111111111111111,\"#46039f\"],[0.2222222222222222,\"#7201a8\"],[0.3333333333333333,\"#9c179e\"],[0.4444444444444444,\"#bd3786\"],[0.5555555555555556,\"#d8576b\"],[0.6666666666666666,\"#ed7953\"],[0.7777777777777778,\"#fb9f3a\"],[0.8888888888888888,\"#fdca26\"],[1.0,\"#f0f921\"]],\"sequentialminus\":[[0.0,\"#0d0887\"],[0.1111111111111111,\"#46039f\"],[0.2222222222222222,\"#7201a8\"],[0.3333333333333333,\"#9c179e\"],[0.4444444444444444,\"#bd3786\"],[0.5555555555555556,\"#d8576b\"],[0.6666666666666666,\"#ed7953\"],[0.7777777777777778,\"#fb9f3a\"],[0.8888888888888888,\"#fdca26\"],[1.0,\"#f0f921\"]],\"diverging\":[[0,\"#8e0152\"],[0.1,\"#c51b7d\"],[0.2,\"#de77ae\"],[0.3,\"#f1b6da\"],[0.4,\"#fde0ef\"],[0.5,\"#f7f7f7\"],[0.6,\"#e6f5d0\"],[0.7,\"#b8e186\"],[0.8,\"#7fbc41\"],[0.9,\"#4d9221\"],[1,\"#276419\"]]},\"xaxis\":{\"gridcolor\":\"white\",\"linecolor\":\"white\",\"ticks\":\"\",\"title\":{\"standoff\":15},\"zerolinecolor\":\"white\",\"automargin\":true,\"zerolinewidth\":2},\"yaxis\":{\"gridcolor\":\"white\",\"linecolor\":\"white\",\"ticks\":\"\",\"title\":{\"standoff\":15},\"zerolinecolor\":\"white\",\"automargin\":true,\"zerolinewidth\":2},\"scene\":{\"xaxis\":{\"backgroundcolor\":\"#E5ECF6\",\"gridcolor\":\"white\",\"linecolor\":\"white\",\"showbackground\":true,\"ticks\":\"\",\"zerolinecolor\":\"white\",\"gridwidth\":2},\"yaxis\":{\"backgroundcolor\":\"#E5ECF6\",\"gridcolor\":\"white\",\"linecolor\":\"white\",\"showbackground\":true,\"ticks\":\"\",\"zerolinecolor\":\"white\",\"gridwidth\":2},\"zaxis\":{\"backgroundcolor\":\"#E5ECF6\",\"gridcolor\":\"white\",\"linecolor\":\"white\",\"showbackground\":true,\"ticks\":\"\",\"zerolinecolor\":\"white\",\"gridwidth\":2}},\"shapedefaults\":{\"line\":{\"color\":\"#2a3f5f\"}},\"annotationdefaults\":{\"arrowcolor\":\"#2a3f5f\",\"arrowhead\":0,\"arrowwidth\":1},\"geo\":{\"bgcolor\":\"white\",\"landcolor\":\"#E5ECF6\",\"subunitcolor\":\"white\",\"showland\":true,\"showlakes\":true,\"lakecolor\":\"white\"},\"title\":{\"x\":0.05},\"mapbox\":{\"style\":\"light\"}}},\"xaxis\":{\"anchor\":\"y\",\"domain\":[0.0,1.0],\"title\":{\"text\":\"Aspect Categories\"}},\"yaxis\":{\"anchor\":\"x\",\"domain\":[0.0,1.0],\"title\":{\"text\":\"Counts\"}},\"legend\":{\"title\":{\"text\":\"polarity\"},\"tracegroupgap\":0},\"title\":{\"text\":\"Category-wise Sentiment Distribution\"},\"barmode\":\"stack\"},                        {\"responsive\": true}                    ).then(function(){\n",
       "                            \n",
       "var gd = document.getElementById('6f900566-97c6-4675-a1f1-8b81a93bb7aa');\n",
       "var x = new MutationObserver(function (mutations, observer) {{\n",
       "        var display = window.getComputedStyle(gd).display;\n",
       "        if (!display || display === 'none') {{\n",
       "            console.log([gd, 'removed!']);\n",
       "            Plotly.purge(gd);\n",
       "            observer.disconnect();\n",
       "        }}\n",
       "}});\n",
       "\n",
       "// Listen for the removal of the full notebook cells\n",
       "var notebookContainer = gd.closest('#notebook-container');\n",
       "if (notebookContainer) {{\n",
       "    x.observe(notebookContainer, {childList: true});\n",
       "}}\n",
       "\n",
       "// Listen for the clearing of the current output cell\n",
       "var outputEl = gd.closest('.output');\n",
       "if (outputEl) {{\n",
       "    x.observe(outputEl, {childList: true});\n",
       "}}\n",
       "\n",
       "                        })                };                });            </script>        </div>"
      ]
     },
     "metadata": {},
     "output_type": "display_data"
    }
   ],
   "source": [
    "import plotly.express as px\n",
    "import warnings\n",
    "warnings.filterwarnings(\"ignore\")\n",
    "\n",
    "# Initialize Data Structures\n",
    "category_polarity_counts = {\n",
    "    'food': {'positive': 0, 'negative': 0, 'neutral': 0, 'conflict': 0},\n",
    "    'service': {'positive': 0, 'negative': 0, 'neutral': 0, 'conflict': 0},\n",
    "    'price': {'positive': 0, 'negative': 0, 'neutral': 0, 'conflict': 0},\n",
    "    'ambience': {'positive': 0, 'negative': 0, 'neutral': 0, 'conflict': 0},\n",
    "    'anecdotes/miscellaneous': {'positive': 0, 'negative': 0, 'neutral': 0, 'conflict': 0}\n",
    "}\n",
    "\n",
    "# Count polarities for each category\n",
    "for sample in data:\n",
    "    for aspect in sample['aspects']:\n",
    "        term = aspect['term'].lower()\n",
    "        category = aspect_to_category.get(term, 'anecdotes/miscellaneous')\n",
    "        polarity = aspect['polarity']\n",
    "        category_polarity_counts[category][polarity] += 1\n",
    "\n",
    "# Convert to DataFrame\n",
    "category_polarity_df = pd.DataFrame.from_dict(category_polarity_counts, orient='index')\n",
    "category_polarity_df = category_polarity_df.reset_index().rename(columns={'index': 'category'})\n",
    "\n",
    "# Melt the DataFrame to long format\n",
    "melted_df = category_polarity_df.melt(id_vars='category', var_name='polarity', value_name='count')\n",
    "\n",
    "# Calculate percentage for hover info\n",
    "total_counts = melted_df.groupby('category')['count'].transform('sum')\n",
    "melted_df['percentage'] = (melted_df['count'] / total_counts) * 100\n",
    "\n",
    "# Create the plot\n",
    "fig = px.bar(melted_df, x='category', y='count', color='polarity', text='percentage',\n",
    "             title='Category-wise Sentiment Distribution', labels={'count': 'Counts'},\n",
    "             hover_data={'percentage': ':.2f%'})\n",
    "\n",
    "# Customize hover template to show count and percentage\n",
    "fig.update_traces(texttemplate='%{text:.2f}%', textposition='outside', hovertemplate='Category: %{x}<br>Polarity: %{color}<br>Count: %{y}<br>Percentage: %{text:.2f}%<extra></extra>')\n",
    "\n",
    "# Customize layout\n",
    "fig.update_layout(barmode='stack', xaxis_title='Aspect Categories', yaxis_title='Counts')\n",
    "\n",
    "# Show the plot\n",
    "fig.show()\n"
   ]
  },
  {
   "cell_type": "code",
   "execution_count": 71,
   "id": "cc69cd1f-7623-48eb-be46-749203f7524d",
   "metadata": {},
   "outputs": [
    {
     "data": {
      "application/vnd.plotly.v1+json": {
       "config": {
        "plotlyServerURL": "https://plot.ly"
       },
       "data": [
        {
         "alignmentgroup": "True",
         "customdata": [
          0.0782608695652174,
          0.15527950310559005,
          0.17888198757763976,
          0.20248447204968945,
          0.22236024844720498,
          0.23975155279503105,
          0.2571428571428571,
          0.2732919254658385,
          0.28819875776397513,
          0.30062111801242236,
          0.31180124223602484,
          0.32298136645962733,
          0.33291925465838507,
          0.34285714285714286,
          0.3515527950310559,
          0.36024844720496896,
          0.368944099378882,
          0.3763975155279503,
          0.3838509316770186,
          0.391304347826087,
          0.3987577639751553,
          0.4049689440993789,
          0.4111801242236025,
          0.41739130434782606,
          0.4236024844720497,
          0.4298136645962733,
          0.4360248447204969,
          0.4422360248447205,
          0.4484472049689441,
          0.453416149068323,
          0.4583850931677019,
          0.46335403726708074,
          0.4683229813664596,
          0.47329192546583854,
          0.4782608695652174,
          0.4832298136645963,
          0.48819875776397514,
          0.493167701863354,
          0.49813664596273294,
          0.5031055900621118,
          0.5080745341614907,
          0.5130434782608696,
          0.5180124223602485,
          0.5229813664596273,
          0.5279503105590062,
          0.5329192546583851,
          0.5366459627329192,
          0.5403726708074534,
          0.5440993788819876,
          0.5478260869565217,
          0.5515527950310559,
          0.55527950310559,
          0.5590062111801242,
          0.5627329192546584,
          0.5664596273291925,
          0.5701863354037268,
          0.5739130434782609,
          0.577639751552795,
          0.5813664596273292,
          0.5850931677018634,
          0.5888198757763975,
          0.5925465838509317,
          0.5962732919254659,
          0.6,
          0.6037267080745342,
          0.6074534161490683,
          0.6111801242236025,
          0.6149068322981367,
          0.6173913043478261,
          0.6198757763975156,
          0.622360248447205,
          0.6248447204968944,
          0.6273291925465838,
          0.6298136645962733,
          0.6322981366459627,
          0.6347826086956522,
          0.6372670807453417,
          0.639751552795031,
          0.6422360248447205,
          0.6447204968944099,
          0.6472049689440994,
          0.6496894409937888,
          0.6521739130434783,
          0.6546583850931676,
          0.6571428571428571,
          0.6596273291925466,
          0.662111801242236,
          0.6645962732919255,
          0.6670807453416149,
          0.6695652173913044,
          0.6720496894409937,
          0.6745341614906832,
          0.6770186335403726,
          0.6795031055900621,
          0.6819875776397516,
          0.684472049689441,
          0.6869565217391305,
          0.6894409937888198,
          0.6919254658385093,
          0.6944099378881987,
          0.6968944099378882,
          0.6993788819875777,
          0.7018633540372671,
          0.7031055900621118,
          0.7043478260869566,
          0.7055900621118012,
          0.7068322981366459,
          0.7080745341614907,
          0.7093167701863354,
          0.7105590062111802,
          0.7118012422360248,
          0.7130434782608696,
          0.7142857142857143,
          0.715527950310559,
          0.7167701863354037,
          0.7180124223602484,
          0.7192546583850932,
          0.7204968944099379,
          0.7217391304347827,
          0.7229813664596273,
          0.724223602484472,
          0.7254658385093168,
          0.7267080745341615,
          0.7279503105590062,
          0.7291925465838509,
          0.7304347826086957,
          0.7316770186335404,
          0.7329192546583851,
          0.7341614906832298,
          0.7354037267080745,
          0.7366459627329193,
          0.737888198757764,
          0.7391304347826086,
          0.7403726708074534,
          0.7416149068322981,
          0.7428571428571429,
          0.7440993788819876,
          0.7453416149068323,
          0.746583850931677,
          0.7478260869565218,
          0.7490683229813665,
          0.7503105590062111,
          0.7515527950310559,
          0.7527950310559006,
          0.7540372670807454,
          0.7552795031055901,
          0.7565217391304347,
          0.7577639751552795,
          0.7590062111801242,
          0.760248447204969,
          0.7614906832298136,
          0.7627329192546584,
          0.7639751552795031,
          0.7652173913043478,
          0.7664596273291926,
          0.7677018633540372,
          0.768944099378882,
          0.7701863354037267,
          0.7714285714285715,
          0.7726708074534161,
          0.7739130434782608,
          0.7751552795031056,
          0.7763975155279503,
          0.7776397515527951,
          0.7788819875776397,
          0.7801242236024845,
          0.7813664596273292,
          0.782608695652174,
          0.7838509316770186,
          0.7850931677018633,
          0.7863354037267081,
          0.7875776397515528,
          0.7888198757763976,
          0.7900621118012422,
          0.7913043478260869,
          0.7925465838509317,
          0.7937888198757764,
          0.7950310559006211,
          0.7962732919254658,
          0.7975155279503106,
          0.7987577639751553,
          0.8
         ],
         "hovertemplate": "Term: %{x}<br>Count: %{y}<br>Cumulative %: %{customdata:.2f}%<extra></extra>",
         "legendgroup": "",
         "marker": {
          "color": "#636efa",
          "pattern": {
           "shape": ""
          }
         },
         "name": "",
         "offsetgroup": "",
         "orientation": "v",
         "showlegend": false,
         "textposition": "auto",
         "type": "bar",
         "x": [
          "service",
          "food",
          "prices",
          "place",
          "table",
          "wait",
          "menu",
          "waiter",
          "portions",
          "price",
          "staff",
          "waitress",
          "rice",
          "pizza",
          "bill",
          "tables",
          "manager",
          "flavor",
          "served",
          "sauce",
          "quality",
          "dishes",
          "delivery",
          "cheese",
          "reservations",
          "fish",
          "sushi",
          "dish",
          "reservation",
          "music",
          "servers",
          "dessert",
          "dinner",
          "wait staff",
          "dim sum",
          "roll",
          "decor",
          "drinks",
          "bread",
          "seating",
          "chicken",
          "ambience",
          "hostess",
          "waiting",
          "ambiance",
          "chef",
          "thai food",
          "meal",
          "seasoning",
          "taste",
          "sauces",
          "atmosphere",
          "waiters",
          "tip",
          "sandwiches",
          "thai",
          "waitstaff",
          "money",
          "server",
          "bagel",
          "entree",
          "seat",
          "space",
          "cost",
          "counter",
          "bartender",
          "people",
          "bar",
          "room",
          "butter",
          "portion size",
          "squid",
          "desserts",
          "area",
          "food quality",
          "wine list",
          "coat check girls",
          "pasta",
          "appetizer",
          "salad",
          "foods",
          "noise",
          "wine",
          "beef",
          "toaster",
          "pepper",
          "dining experience",
          "priced",
          "deliveries",
          "salmon",
          "management",
          "order",
          "seats",
          "ingredients",
          "seafood",
          "quality of food",
          "noodles",
          "pad thai",
          "entrees",
          "sugar",
          "employees",
          "bacon",
          "noise level",
          "mayonaisse",
          "menu items",
          "nori",
          "chocolate sampler",
          "dessert wine",
          "dosas",
          "appetizers",
          "white wine",
          "lunch special",
          "spot",
          "aisle",
          "chefs",
          "fried dumplings",
          "pre-fixe menu",
          "ordering a la carte",
          "salads",
          "hot pot with seafood",
          "shrimp",
          "spicy tuna roll",
          "servings",
          "crabmeat",
          "white sauce",
          "delivery time",
          "fries",
          "portioins",
          "mezzanine",
          "sashimi",
          "packed",
          "wines by the glass",
          "miso soup",
          "workers",
          "scents",
          "eggs",
          "menu description",
          "people with carts of food",
          "sushi place",
          "guy",
          "crowd",
          "kitchen",
          "fish tanks",
          "menu prices",
          "sushi chef",
          "grilled branzino",
          "busboy",
          "crowded",
          "water and wine glasses",
          "prix fixe meal",
          "sake martini",
          "tanks",
          "halibut",
          "chicken casserole",
          "meat",
          "customers",
          "aesthetics",
          "scene",
          "potato",
          "mussaman curry",
          "waiting area",
          "steak",
          "steak dish",
          "dhosas",
          "dhal",
          "bathroom",
          "qualities",
          "dress cod",
          "wait service",
          "wait time",
          "cuisine",
          "service staff",
          "delivery guys",
          "go go hamburgers",
          "bars",
          "line",
          "toasting",
          "dim sum dish",
          "hall",
          "burgers",
          "discount",
          "vegetarian dishes"
         ],
         "xaxis": "x",
         "y": [
          63,
          62,
          19,
          19,
          16,
          14,
          14,
          13,
          12,
          10,
          9,
          9,
          8,
          8,
          7,
          7,
          7,
          6,
          6,
          6,
          6,
          5,
          5,
          5,
          5,
          5,
          5,
          5,
          5,
          4,
          4,
          4,
          4,
          4,
          4,
          4,
          4,
          4,
          4,
          4,
          4,
          4,
          4,
          4,
          4,
          4,
          3,
          3,
          3,
          3,
          3,
          3,
          3,
          3,
          3,
          3,
          3,
          3,
          3,
          3,
          3,
          3,
          3,
          3,
          3,
          3,
          3,
          3,
          2,
          2,
          2,
          2,
          2,
          2,
          2,
          2,
          2,
          2,
          2,
          2,
          2,
          2,
          2,
          2,
          2,
          2,
          2,
          2,
          2,
          2,
          2,
          2,
          2,
          2,
          2,
          2,
          2,
          2,
          2,
          2,
          2,
          2,
          2,
          1,
          1,
          1,
          1,
          1,
          1,
          1,
          1,
          1,
          1,
          1,
          1,
          1,
          1,
          1,
          1,
          1,
          1,
          1,
          1,
          1,
          1,
          1,
          1,
          1,
          1,
          1,
          1,
          1,
          1,
          1,
          1,
          1,
          1,
          1,
          1,
          1,
          1,
          1,
          1,
          1,
          1,
          1,
          1,
          1,
          1,
          1,
          1,
          1,
          1,
          1,
          1,
          1,
          1,
          1,
          1,
          1,
          1,
          1,
          1,
          1,
          1,
          1,
          1,
          1,
          1,
          1,
          1,
          1,
          1,
          1,
          1,
          1,
          1,
          1,
          1,
          1,
          1,
          1
         ],
         "yaxis": "y"
        }
       ],
       "layout": {
        "autosize": true,
        "barmode": "relative",
        "dragmode": "pan",
        "legend": {
         "tracegroupgap": 0
        },
        "template": {
         "data": {
          "bar": [
           {
            "error_x": {
             "color": "#2a3f5f"
            },
            "error_y": {
             "color": "#2a3f5f"
            },
            "marker": {
             "line": {
              "color": "#E5ECF6",
              "width": 0.5
             },
             "pattern": {
              "fillmode": "overlay",
              "size": 10,
              "solidity": 0.2
             }
            },
            "type": "bar"
           }
          ],
          "barpolar": [
           {
            "marker": {
             "line": {
              "color": "#E5ECF6",
              "width": 0.5
             },
             "pattern": {
              "fillmode": "overlay",
              "size": 10,
              "solidity": 0.2
             }
            },
            "type": "barpolar"
           }
          ],
          "carpet": [
           {
            "aaxis": {
             "endlinecolor": "#2a3f5f",
             "gridcolor": "white",
             "linecolor": "white",
             "minorgridcolor": "white",
             "startlinecolor": "#2a3f5f"
            },
            "baxis": {
             "endlinecolor": "#2a3f5f",
             "gridcolor": "white",
             "linecolor": "white",
             "minorgridcolor": "white",
             "startlinecolor": "#2a3f5f"
            },
            "type": "carpet"
           }
          ],
          "choropleth": [
           {
            "colorbar": {
             "outlinewidth": 0,
             "ticks": ""
            },
            "type": "choropleth"
           }
          ],
          "contour": [
           {
            "colorbar": {
             "outlinewidth": 0,
             "ticks": ""
            },
            "colorscale": [
             [
              0,
              "#0d0887"
             ],
             [
              0.1111111111111111,
              "#46039f"
             ],
             [
              0.2222222222222222,
              "#7201a8"
             ],
             [
              0.3333333333333333,
              "#9c179e"
             ],
             [
              0.4444444444444444,
              "#bd3786"
             ],
             [
              0.5555555555555556,
              "#d8576b"
             ],
             [
              0.6666666666666666,
              "#ed7953"
             ],
             [
              0.7777777777777778,
              "#fb9f3a"
             ],
             [
              0.8888888888888888,
              "#fdca26"
             ],
             [
              1,
              "#f0f921"
             ]
            ],
            "type": "contour"
           }
          ],
          "contourcarpet": [
           {
            "colorbar": {
             "outlinewidth": 0,
             "ticks": ""
            },
            "type": "contourcarpet"
           }
          ],
          "heatmap": [
           {
            "colorbar": {
             "outlinewidth": 0,
             "ticks": ""
            },
            "colorscale": [
             [
              0,
              "#0d0887"
             ],
             [
              0.1111111111111111,
              "#46039f"
             ],
             [
              0.2222222222222222,
              "#7201a8"
             ],
             [
              0.3333333333333333,
              "#9c179e"
             ],
             [
              0.4444444444444444,
              "#bd3786"
             ],
             [
              0.5555555555555556,
              "#d8576b"
             ],
             [
              0.6666666666666666,
              "#ed7953"
             ],
             [
              0.7777777777777778,
              "#fb9f3a"
             ],
             [
              0.8888888888888888,
              "#fdca26"
             ],
             [
              1,
              "#f0f921"
             ]
            ],
            "type": "heatmap"
           }
          ],
          "heatmapgl": [
           {
            "colorbar": {
             "outlinewidth": 0,
             "ticks": ""
            },
            "colorscale": [
             [
              0,
              "#0d0887"
             ],
             [
              0.1111111111111111,
              "#46039f"
             ],
             [
              0.2222222222222222,
              "#7201a8"
             ],
             [
              0.3333333333333333,
              "#9c179e"
             ],
             [
              0.4444444444444444,
              "#bd3786"
             ],
             [
              0.5555555555555556,
              "#d8576b"
             ],
             [
              0.6666666666666666,
              "#ed7953"
             ],
             [
              0.7777777777777778,
              "#fb9f3a"
             ],
             [
              0.8888888888888888,
              "#fdca26"
             ],
             [
              1,
              "#f0f921"
             ]
            ],
            "type": "heatmapgl"
           }
          ],
          "histogram": [
           {
            "marker": {
             "pattern": {
              "fillmode": "overlay",
              "size": 10,
              "solidity": 0.2
             }
            },
            "type": "histogram"
           }
          ],
          "histogram2d": [
           {
            "colorbar": {
             "outlinewidth": 0,
             "ticks": ""
            },
            "colorscale": [
             [
              0,
              "#0d0887"
             ],
             [
              0.1111111111111111,
              "#46039f"
             ],
             [
              0.2222222222222222,
              "#7201a8"
             ],
             [
              0.3333333333333333,
              "#9c179e"
             ],
             [
              0.4444444444444444,
              "#bd3786"
             ],
             [
              0.5555555555555556,
              "#d8576b"
             ],
             [
              0.6666666666666666,
              "#ed7953"
             ],
             [
              0.7777777777777778,
              "#fb9f3a"
             ],
             [
              0.8888888888888888,
              "#fdca26"
             ],
             [
              1,
              "#f0f921"
             ]
            ],
            "type": "histogram2d"
           }
          ],
          "histogram2dcontour": [
           {
            "colorbar": {
             "outlinewidth": 0,
             "ticks": ""
            },
            "colorscale": [
             [
              0,
              "#0d0887"
             ],
             [
              0.1111111111111111,
              "#46039f"
             ],
             [
              0.2222222222222222,
              "#7201a8"
             ],
             [
              0.3333333333333333,
              "#9c179e"
             ],
             [
              0.4444444444444444,
              "#bd3786"
             ],
             [
              0.5555555555555556,
              "#d8576b"
             ],
             [
              0.6666666666666666,
              "#ed7953"
             ],
             [
              0.7777777777777778,
              "#fb9f3a"
             ],
             [
              0.8888888888888888,
              "#fdca26"
             ],
             [
              1,
              "#f0f921"
             ]
            ],
            "type": "histogram2dcontour"
           }
          ],
          "mesh3d": [
           {
            "colorbar": {
             "outlinewidth": 0,
             "ticks": ""
            },
            "type": "mesh3d"
           }
          ],
          "parcoords": [
           {
            "line": {
             "colorbar": {
              "outlinewidth": 0,
              "ticks": ""
             }
            },
            "type": "parcoords"
           }
          ],
          "pie": [
           {
            "automargin": true,
            "type": "pie"
           }
          ],
          "scatter": [
           {
            "fillpattern": {
             "fillmode": "overlay",
             "size": 10,
             "solidity": 0.2
            },
            "type": "scatter"
           }
          ],
          "scatter3d": [
           {
            "line": {
             "colorbar": {
              "outlinewidth": 0,
              "ticks": ""
             }
            },
            "marker": {
             "colorbar": {
              "outlinewidth": 0,
              "ticks": ""
             }
            },
            "type": "scatter3d"
           }
          ],
          "scattercarpet": [
           {
            "marker": {
             "colorbar": {
              "outlinewidth": 0,
              "ticks": ""
             }
            },
            "type": "scattercarpet"
           }
          ],
          "scattergeo": [
           {
            "marker": {
             "colorbar": {
              "outlinewidth": 0,
              "ticks": ""
             }
            },
            "type": "scattergeo"
           }
          ],
          "scattergl": [
           {
            "marker": {
             "colorbar": {
              "outlinewidth": 0,
              "ticks": ""
             }
            },
            "type": "scattergl"
           }
          ],
          "scattermapbox": [
           {
            "marker": {
             "colorbar": {
              "outlinewidth": 0,
              "ticks": ""
             }
            },
            "type": "scattermapbox"
           }
          ],
          "scatterpolar": [
           {
            "marker": {
             "colorbar": {
              "outlinewidth": 0,
              "ticks": ""
             }
            },
            "type": "scatterpolar"
           }
          ],
          "scatterpolargl": [
           {
            "marker": {
             "colorbar": {
              "outlinewidth": 0,
              "ticks": ""
             }
            },
            "type": "scatterpolargl"
           }
          ],
          "scatterternary": [
           {
            "marker": {
             "colorbar": {
              "outlinewidth": 0,
              "ticks": ""
             }
            },
            "type": "scatterternary"
           }
          ],
          "surface": [
           {
            "colorbar": {
             "outlinewidth": 0,
             "ticks": ""
            },
            "colorscale": [
             [
              0,
              "#0d0887"
             ],
             [
              0.1111111111111111,
              "#46039f"
             ],
             [
              0.2222222222222222,
              "#7201a8"
             ],
             [
              0.3333333333333333,
              "#9c179e"
             ],
             [
              0.4444444444444444,
              "#bd3786"
             ],
             [
              0.5555555555555556,
              "#d8576b"
             ],
             [
              0.6666666666666666,
              "#ed7953"
             ],
             [
              0.7777777777777778,
              "#fb9f3a"
             ],
             [
              0.8888888888888888,
              "#fdca26"
             ],
             [
              1,
              "#f0f921"
             ]
            ],
            "type": "surface"
           }
          ],
          "table": [
           {
            "cells": {
             "fill": {
              "color": "#EBF0F8"
             },
             "line": {
              "color": "white"
             }
            },
            "header": {
             "fill": {
              "color": "#C8D4E3"
             },
             "line": {
              "color": "white"
             }
            },
            "type": "table"
           }
          ]
         },
         "layout": {
          "annotationdefaults": {
           "arrowcolor": "#2a3f5f",
           "arrowhead": 0,
           "arrowwidth": 1
          },
          "autotypenumbers": "strict",
          "coloraxis": {
           "colorbar": {
            "outlinewidth": 0,
            "ticks": ""
           }
          },
          "colorscale": {
           "diverging": [
            [
             0,
             "#8e0152"
            ],
            [
             0.1,
             "#c51b7d"
            ],
            [
             0.2,
             "#de77ae"
            ],
            [
             0.3,
             "#f1b6da"
            ],
            [
             0.4,
             "#fde0ef"
            ],
            [
             0.5,
             "#f7f7f7"
            ],
            [
             0.6,
             "#e6f5d0"
            ],
            [
             0.7,
             "#b8e186"
            ],
            [
             0.8,
             "#7fbc41"
            ],
            [
             0.9,
             "#4d9221"
            ],
            [
             1,
             "#276419"
            ]
           ],
           "sequential": [
            [
             0,
             "#0d0887"
            ],
            [
             0.1111111111111111,
             "#46039f"
            ],
            [
             0.2222222222222222,
             "#7201a8"
            ],
            [
             0.3333333333333333,
             "#9c179e"
            ],
            [
             0.4444444444444444,
             "#bd3786"
            ],
            [
             0.5555555555555556,
             "#d8576b"
            ],
            [
             0.6666666666666666,
             "#ed7953"
            ],
            [
             0.7777777777777778,
             "#fb9f3a"
            ],
            [
             0.8888888888888888,
             "#fdca26"
            ],
            [
             1,
             "#f0f921"
            ]
           ],
           "sequentialminus": [
            [
             0,
             "#0d0887"
            ],
            [
             0.1111111111111111,
             "#46039f"
            ],
            [
             0.2222222222222222,
             "#7201a8"
            ],
            [
             0.3333333333333333,
             "#9c179e"
            ],
            [
             0.4444444444444444,
             "#bd3786"
            ],
            [
             0.5555555555555556,
             "#d8576b"
            ],
            [
             0.6666666666666666,
             "#ed7953"
            ],
            [
             0.7777777777777778,
             "#fb9f3a"
            ],
            [
             0.8888888888888888,
             "#fdca26"
            ],
            [
             1,
             "#f0f921"
            ]
           ]
          },
          "colorway": [
           "#636efa",
           "#EF553B",
           "#00cc96",
           "#ab63fa",
           "#FFA15A",
           "#19d3f3",
           "#FF6692",
           "#B6E880",
           "#FF97FF",
           "#FECB52"
          ],
          "font": {
           "color": "#2a3f5f"
          },
          "geo": {
           "bgcolor": "white",
           "lakecolor": "white",
           "landcolor": "#E5ECF6",
           "showlakes": true,
           "showland": true,
           "subunitcolor": "white"
          },
          "hoverlabel": {
           "align": "left"
          },
          "hovermode": "closest",
          "mapbox": {
           "style": "light"
          },
          "paper_bgcolor": "white",
          "plot_bgcolor": "#E5ECF6",
          "polar": {
           "angularaxis": {
            "gridcolor": "white",
            "linecolor": "white",
            "ticks": ""
           },
           "bgcolor": "#E5ECF6",
           "radialaxis": {
            "gridcolor": "white",
            "linecolor": "white",
            "ticks": ""
           }
          },
          "scene": {
           "xaxis": {
            "backgroundcolor": "#E5ECF6",
            "gridcolor": "white",
            "gridwidth": 2,
            "linecolor": "white",
            "showbackground": true,
            "ticks": "",
            "zerolinecolor": "white"
           },
           "yaxis": {
            "backgroundcolor": "#E5ECF6",
            "gridcolor": "white",
            "gridwidth": 2,
            "linecolor": "white",
            "showbackground": true,
            "ticks": "",
            "zerolinecolor": "white"
           },
           "zaxis": {
            "backgroundcolor": "#E5ECF6",
            "gridcolor": "white",
            "gridwidth": 2,
            "linecolor": "white",
            "showbackground": true,
            "ticks": "",
            "zerolinecolor": "white"
           }
          },
          "shapedefaults": {
           "line": {
            "color": "#2a3f5f"
           }
          },
          "ternary": {
           "aaxis": {
            "gridcolor": "white",
            "linecolor": "white",
            "ticks": ""
           },
           "baxis": {
            "gridcolor": "white",
            "linecolor": "white",
            "ticks": ""
           },
           "bgcolor": "#E5ECF6",
           "caxis": {
            "gridcolor": "white",
            "linecolor": "white",
            "ticks": ""
           }
          },
          "title": {
           "x": 0.05
          },
          "xaxis": {
           "automargin": true,
           "gridcolor": "white",
           "linecolor": "white",
           "ticks": "",
           "title": {
            "standoff": 15
           },
           "zerolinecolor": "white",
           "zerolinewidth": 2
          },
          "yaxis": {
           "automargin": true,
           "gridcolor": "white",
           "linecolor": "white",
           "ticks": "",
           "title": {
            "standoff": 15
           },
           "zerolinecolor": "white",
           "zerolinewidth": 2
          }
         }
        },
        "title": {
         "text": "Top Aspect Terms Contributing to 80% of Negative Sentiment"
        },
        "xaxis": {
         "anchor": "y",
         "autorange": true,
         "domain": [
          0,
          1
         ],
         "range": [
          -0.5,
          181.5
         ],
         "title": {
          "text": "index"
         },
         "type": "category"
        },
        "yaxis": {
         "anchor": "x",
         "autorange": true,
         "domain": [
          0,
          1
         ],
         "range": [
          0,
          66.3157894736842
         ],
         "title": {
          "text": "Frequency"
         },
         "type": "linear"
        }
       }
      },
      "image/png": "[encoded data removed]",
      "text/html": [
       "<div>                            <div id=\"33147aea-8fa9-4963-9477-b47b5cd25f58\" class=\"plotly-graph-div\" style=\"height:525px; width:100%;\"></div>            <script type=\"text/javascript\">                require([\"plotly\"], function(Plotly) {                    window.PLOTLYENV=window.PLOTLYENV || {};                                    if (document.getElementById(\"33147aea-8fa9-4963-9477-b47b5cd25f58\")) {                    Plotly.newPlot(                        \"33147aea-8fa9-4963-9477-b47b5cd25f58\",                        [{\"alignmentgroup\":\"True\",\"hovertemplate\":\"Term: %{x}<br>Count: %{y}<br>Cumulative %: %{customdata:.2f}%<extra></extra>\",\"legendgroup\":\"\",\"marker\":{\"color\":\"#636efa\",\"pattern\":{\"shape\":\"\"}},\"name\":\"\",\"offsetgroup\":\"\",\"orientation\":\"v\",\"showlegend\":false,\"textposition\":\"auto\",\"x\":[\"service\",\"food\",\"prices\",\"place\",\"table\",\"wait\",\"menu\",\"waiter\",\"portions\",\"price\",\"staff\",\"waitress\",\"rice\",\"pizza\",\"bill\",\"tables\",\"manager\",\"flavor\",\"served\",\"sauce\",\"quality\",\"dishes\",\"delivery\",\"cheese\",\"reservations\",\"fish\",\"sushi\",\"dish\",\"reservation\",\"music\",\"servers\",\"dessert\",\"dinner\",\"wait staff\",\"dim sum\",\"roll\",\"decor\",\"drinks\",\"bread\",\"seating\",\"chicken\",\"ambience\",\"hostess\",\"waiting\",\"ambiance\",\"chef\",\"thai food\",\"meal\",\"seasoning\",\"taste\",\"sauces\",\"atmosphere\",\"waiters\",\"tip\",\"sandwiches\",\"thai\",\"waitstaff\",\"money\",\"server\",\"bagel\",\"entree\",\"seat\",\"space\",\"cost\",\"counter\",\"bartender\",\"people\",\"bar\",\"room\",\"butter\",\"portion size\",\"squid\",\"desserts\",\"area\",\"food quality\",\"wine list\",\"coat check girls\",\"pasta\",\"appetizer\",\"salad\",\"foods\",\"noise\",\"wine\",\"beef\",\"toaster\",\"pepper\",\"dining experience\",\"priced\",\"deliveries\",\"salmon\",\"management\",\"order\",\"seats\",\"ingredients\",\"seafood\",\"quality of food\",\"noodles\",\"pad thai\",\"entrees\",\"sugar\",\"employees\",\"bacon\",\"noise level\",\"mayonaisse\",\"menu items\",\"nori\",\"chocolate sampler\",\"dessert wine\",\"dosas\",\"appetizers\",\"white wine\",\"lunch special\",\"spot\",\"aisle\",\"chefs\",\"fried dumplings\",\"pre-fixe menu\",\"ordering a la carte\",\"salads\",\"hot pot with seafood\",\"shrimp\",\"spicy tuna roll\",\"servings\",\"crabmeat\",\"white sauce\",\"delivery time\",\"fries\",\"portioins\",\"mezzanine\",\"sashimi\",\"packed\",\"wines by the glass\",\"miso soup\",\"workers\",\"scents\",\"eggs\",\"menu description\",\"people with carts of food\",\"sushi place\",\"guy\",\"crowd\",\"kitchen\",\"fish tanks\",\"menu prices\",\"sushi chef\",\"grilled branzino\",\"busboy\",\"crowded\",\"water and wine glasses\",\"prix fixe meal\",\"sake martini\",\"tanks\",\"halibut\",\"chicken casserole\",\"meat\",\"customers\",\"aesthetics\",\"scene\",\"potato\",\"mussaman curry\",\"waiting area\",\"steak\",\"steak dish\",\"dhosas\",\"dhal\",\"bathroom\",\"qualities\",\"dress cod\",\"wait service\",\"wait time\",\"cuisine\",\"service staff\",\"delivery guys\",\"go go hamburgers\",\"bars\",\"line\",\"toasting\",\"dim sum dish\",\"hall\",\"burgers\",\"discount\",\"vegetarian dishes\"],\"xaxis\":\"x\",\"y\":[63,62,19,19,16,14,14,13,12,10,9,9,8,8,7,7,7,6,6,6,6,5,5,5,5,5,5,5,5,4,4,4,4,4,4,4,4,4,4,4,4,4,4,4,4,4,3,3,3,3,3,3,3,3,3,3,3,3,3,3,3,3,3,3,3,3,3,3,2,2,2,2,2,2,2,2,2,2,2,2,2,2,2,2,2,2,2,2,2,2,2,2,2,2,2,2,2,2,2,2,2,2,2,1,1,1,1,1,1,1,1,1,1,1,1,1,1,1,1,1,1,1,1,1,1,1,1,1,1,1,1,1,1,1,1,1,1,1,1,1,1,1,1,1,1,1,1,1,1,1,1,1,1,1,1,1,1,1,1,1,1,1,1,1,1,1,1,1,1,1,1,1,1,1,1,1,1,1,1,1,1,1],\"yaxis\":\"y\",\"type\":\"bar\",\"customdata\":[0.0782608695652174,0.15527950310559005,0.17888198757763976,0.20248447204968945,0.22236024844720498,0.23975155279503105,0.2571428571428571,0.2732919254658385,0.28819875776397513,0.30062111801242236,0.31180124223602484,0.32298136645962733,0.33291925465838507,0.34285714285714286,0.3515527950310559,0.36024844720496896,0.368944099378882,0.3763975155279503,0.3838509316770186,0.391304347826087,0.3987577639751553,0.4049689440993789,0.4111801242236025,0.41739130434782606,0.4236024844720497,0.4298136645962733,0.4360248447204969,0.4422360248447205,0.4484472049689441,0.453416149068323,0.4583850931677019,0.46335403726708074,0.4683229813664596,0.47329192546583854,0.4782608695652174,0.4832298136645963,0.48819875776397514,0.493167701863354,0.49813664596273294,0.5031055900621118,0.5080745341614907,0.5130434782608696,0.5180124223602485,0.5229813664596273,0.5279503105590062,0.5329192546583851,0.5366459627329192,0.5403726708074534,0.5440993788819876,0.5478260869565217,0.5515527950310559,0.55527950310559,0.5590062111801242,0.5627329192546584,0.5664596273291925,0.5701863354037268,0.5739130434782609,0.577639751552795,0.5813664596273292,0.5850931677018634,0.5888198757763975,0.5925465838509317,0.5962732919254659,0.6,0.6037267080745342,0.6074534161490683,0.6111801242236025,0.6149068322981367,0.6173913043478261,0.6198757763975156,0.622360248447205,0.6248447204968944,0.6273291925465838,0.6298136645962733,0.6322981366459627,0.6347826086956522,0.6372670807453417,0.639751552795031,0.6422360248447205,0.6447204968944099,0.6472049689440994,0.6496894409937888,0.6521739130434783,0.6546583850931676,0.6571428571428571,0.6596273291925466,0.662111801242236,0.6645962732919255,0.6670807453416149,0.6695652173913044,0.6720496894409937,0.6745341614906832,0.6770186335403726,0.6795031055900621,0.6819875776397516,0.684472049689441,0.6869565217391305,0.6894409937888198,0.6919254658385093,0.6944099378881987,0.6968944099378882,0.6993788819875777,0.7018633540372671,0.7031055900621118,0.7043478260869566,0.7055900621118012,0.7068322981366459,0.7080745341614907,0.7093167701863354,0.7105590062111802,0.7118012422360248,0.7130434782608696,0.7142857142857143,0.715527950310559,0.7167701863354037,0.7180124223602484,0.7192546583850932,0.7204968944099379,0.7217391304347827,0.7229813664596273,0.724223602484472,0.7254658385093168,0.7267080745341615,0.7279503105590062,0.7291925465838509,0.7304347826086957,0.7316770186335404,0.7329192546583851,0.7341614906832298,0.7354037267080745,0.7366459627329193,0.737888198757764,0.7391304347826086,0.7403726708074534,0.7416149068322981,0.7428571428571429,0.7440993788819876,0.7453416149068323,0.746583850931677,0.7478260869565218,0.7490683229813665,0.7503105590062111,0.7515527950310559,0.7527950310559006,0.7540372670807454,0.7552795031055901,0.7565217391304347,0.7577639751552795,0.7590062111801242,0.760248447204969,0.7614906832298136,0.7627329192546584,0.7639751552795031,0.7652173913043478,0.7664596273291926,0.7677018633540372,0.768944099378882,0.7701863354037267,0.7714285714285715,0.7726708074534161,0.7739130434782608,0.7751552795031056,0.7763975155279503,0.7776397515527951,0.7788819875776397,0.7801242236024845,0.7813664596273292,0.782608695652174,0.7838509316770186,0.7850931677018633,0.7863354037267081,0.7875776397515528,0.7888198757763976,0.7900621118012422,0.7913043478260869,0.7925465838509317,0.7937888198757764,0.7950310559006211,0.7962732919254658,0.7975155279503106,0.7987577639751553,0.8]}],                        {\"template\":{\"data\":{\"histogram2dcontour\":[{\"type\":\"histogram2dcontour\",\"colorbar\":{\"outlinewidth\":0,\"ticks\":\"\"},\"colorscale\":[[0.0,\"#0d0887\"],[0.1111111111111111,\"#46039f\"],[0.2222222222222222,\"#7201a8\"],[0.3333333333333333,\"#9c179e\"],[0.4444444444444444,\"#bd3786\"],[0.5555555555555556,\"#d8576b\"],[0.6666666666666666,\"#ed7953\"],[0.7777777777777778,\"#fb9f3a\"],[0.8888888888888888,\"#fdca26\"],[1.0,\"#f0f921\"]]}],\"choropleth\":[{\"type\":\"choropleth\",\"colorbar\":{\"outlinewidth\":0,\"ticks\":\"\"}}],\"histogram2d\":[{\"type\":\"histogram2d\",\"colorbar\":{\"outlinewidth\":0,\"ticks\":\"\"},\"colorscale\":[[0.0,\"#0d0887\"],[0.1111111111111111,\"#46039f\"],[0.2222222222222222,\"#7201a8\"],[0.3333333333333333,\"#9c179e\"],[0.4444444444444444,\"#bd3786\"],[0.5555555555555556,\"#d8576b\"],[0.6666666666666666,\"#ed7953\"],[0.7777777777777778,\"#fb9f3a\"],[0.8888888888888888,\"#fdca26\"],[1.0,\"#f0f921\"]]}],\"heatmap\":[{\"type\":\"heatmap\",\"colorbar\":{\"outlinewidth\":0,\"ticks\":\"\"},\"colorscale\":[[0.0,\"#0d0887\"],[0.1111111111111111,\"#46039f\"],[0.2222222222222222,\"#7201a8\"],[0.3333333333333333,\"#9c179e\"],[0.4444444444444444,\"#bd3786\"],[0.5555555555555556,\"#d8576b\"],[0.6666666666666666,\"#ed7953\"],[0.7777777777777778,\"#fb9f3a\"],[0.8888888888888888,\"#fdca26\"],[1.0,\"#f0f921\"]]}],\"heatmapgl\":[{\"type\":\"heatmapgl\",\"colorbar\":{\"outlinewidth\":0,\"ticks\":\"\"},\"colorscale\":[[0.0,\"#0d0887\"],[0.1111111111111111,\"#46039f\"],[0.2222222222222222,\"#7201a8\"],[0.3333333333333333,\"#9c179e\"],[0.4444444444444444,\"#bd3786\"],[0.5555555555555556,\"#d8576b\"],[0.6666666666666666,\"#ed7953\"],[0.7777777777777778,\"#fb9f3a\"],[0.8888888888888888,\"#fdca26\"],[1.0,\"#f0f921\"]]}],\"contourcarpet\":[{\"type\":\"contourcarpet\",\"colorbar\":{\"outlinewidth\":0,\"ticks\":\"\"}}],\"contour\":[{\"type\":\"contour\",\"colorbar\":{\"outlinewidth\":0,\"ticks\":\"\"},\"colorscale\":[[0.0,\"#0d0887\"],[0.1111111111111111,\"#46039f\"],[0.2222222222222222,\"#7201a8\"],[0.3333333333333333,\"#9c179e\"],[0.4444444444444444,\"#bd3786\"],[0.5555555555555556,\"#d8576b\"],[0.6666666666666666,\"#ed7953\"],[0.7777777777777778,\"#fb9f3a\"],[0.8888888888888888,\"#fdca26\"],[1.0,\"#f0f921\"]]}],\"surface\":[{\"type\":\"surface\",\"colorbar\":{\"outlinewidth\":0,\"ticks\":\"\"},\"colorscale\":[[0.0,\"#0d0887\"],[0.1111111111111111,\"#46039f\"],[0.2222222222222222,\"#7201a8\"],[0.3333333333333333,\"#9c179e\"],[0.4444444444444444,\"#bd3786\"],[0.5555555555555556,\"#d8576b\"],[0.6666666666666666,\"#ed7953\"],[0.7777777777777778,\"#fb9f3a\"],[0.8888888888888888,\"#fdca26\"],[1.0,\"#f0f921\"]]}],\"mesh3d\":[{\"type\":\"mesh3d\",\"colorbar\":{\"outlinewidth\":0,\"ticks\":\"\"}}],\"scatter\":[{\"fillpattern\":{\"fillmode\":\"overlay\",\"size\":10,\"solidity\":0.2},\"type\":\"scatter\"}],\"parcoords\":[{\"type\":\"parcoords\",\"line\":{\"colorbar\":{\"outlinewidth\":0,\"ticks\":\"\"}}}],\"scatterpolargl\":[{\"type\":\"scatterpolargl\",\"marker\":{\"colorbar\":{\"outlinewidth\":0,\"ticks\":\"\"}}}],\"bar\":[{\"error_x\":{\"color\":\"#2a3f5f\"},\"error_y\":{\"color\":\"#2a3f5f\"},\"marker\":{\"line\":{\"color\":\"#E5ECF6\",\"width\":0.5},\"pattern\":{\"fillmode\":\"overlay\",\"size\":10,\"solidity\":0.2}},\"type\":\"bar\"}],\"scattergeo\":[{\"type\":\"scattergeo\",\"marker\":{\"colorbar\":{\"outlinewidth\":0,\"ticks\":\"\"}}}],\"scatterpolar\":[{\"type\":\"scatterpolar\",\"marker\":{\"colorbar\":{\"outlinewidth\":0,\"ticks\":\"\"}}}],\"histogram\":[{\"marker\":{\"pattern\":{\"fillmode\":\"overlay\",\"size\":10,\"solidity\":0.2}},\"type\":\"histogram\"}],\"scattergl\":[{\"type\":\"scattergl\",\"marker\":{\"colorbar\":{\"outlinewidth\":0,\"ticks\":\"\"}}}],\"scatter3d\":[{\"type\":\"scatter3d\",\"line\":{\"colorbar\":{\"outlinewidth\":0,\"ticks\":\"\"}},\"marker\":{\"colorbar\":{\"outlinewidth\":0,\"ticks\":\"\"}}}],\"scattermapbox\":[{\"type\":\"scattermapbox\",\"marker\":{\"colorbar\":{\"outlinewidth\":0,\"ticks\":\"\"}}}],\"scatterternary\":[{\"type\":\"scatterternary\",\"marker\":{\"colorbar\":{\"outlinewidth\":0,\"ticks\":\"\"}}}],\"scattercarpet\":[{\"type\":\"scattercarpet\",\"marker\":{\"colorbar\":{\"outlinewidth\":0,\"ticks\":\"\"}}}],\"carpet\":[{\"aaxis\":{\"endlinecolor\":\"#2a3f5f\",\"gridcolor\":\"white\",\"linecolor\":\"white\",\"minorgridcolor\":\"white\",\"startlinecolor\":\"#2a3f5f\"},\"baxis\":{\"endlinecolor\":\"#2a3f5f\",\"gridcolor\":\"white\",\"linecolor\":\"white\",\"minorgridcolor\":\"white\",\"startlinecolor\":\"#2a3f5f\"},\"type\":\"carpet\"}],\"table\":[{\"cells\":{\"fill\":{\"color\":\"#EBF0F8\"},\"line\":{\"color\":\"white\"}},\"header\":{\"fill\":{\"color\":\"#C8D4E3\"},\"line\":{\"color\":\"white\"}},\"type\":\"table\"}],\"barpolar\":[{\"marker\":{\"line\":{\"color\":\"#E5ECF6\",\"width\":0.5},\"pattern\":{\"fillmode\":\"overlay\",\"size\":10,\"solidity\":0.2}},\"type\":\"barpolar\"}],\"pie\":[{\"automargin\":true,\"type\":\"pie\"}]},\"layout\":{\"autotypenumbers\":\"strict\",\"colorway\":[\"#636efa\",\"#EF553B\",\"#00cc96\",\"#ab63fa\",\"#FFA15A\",\"#19d3f3\",\"#FF6692\",\"#B6E880\",\"#FF97FF\",\"#FECB52\"],\"font\":{\"color\":\"#2a3f5f\"},\"hovermode\":\"closest\",\"hoverlabel\":{\"align\":\"left\"},\"paper_bgcolor\":\"white\",\"plot_bgcolor\":\"#E5ECF6\",\"polar\":{\"bgcolor\":\"#E5ECF6\",\"angularaxis\":{\"gridcolor\":\"white\",\"linecolor\":\"white\",\"ticks\":\"\"},\"radialaxis\":{\"gridcolor\":\"white\",\"linecolor\":\"white\",\"ticks\":\"\"}},\"ternary\":{\"bgcolor\":\"#E5ECF6\",\"aaxis\":{\"gridcolor\":\"white\",\"linecolor\":\"white\",\"ticks\":\"\"},\"baxis\":{\"gridcolor\":\"white\",\"linecolor\":\"white\",\"ticks\":\"\"},\"caxis\":{\"gridcolor\":\"white\",\"linecolor\":\"white\",\"ticks\":\"\"}},\"coloraxis\":{\"colorbar\":{\"outlinewidth\":0,\"ticks\":\"\"}},\"colorscale\":{\"sequential\":[[0.0,\"#0d0887\"],[0.1111111111111111,\"#46039f\"],[0.2222222222222222,\"#7201a8\"],[0.3333333333333333,\"#9c179e\"],[0.4444444444444444,\"#bd3786\"],[0.5555555555555556,\"#d8576b\"],[0.6666666666666666,\"#ed7953\"],[0.7777777777777778,\"#fb9f3a\"],[0.8888888888888888,\"#fdca26\"],[1.0,\"#f0f921\"]],\"sequentialminus\":[[0.0,\"#0d0887\"],[0.1111111111111111,\"#46039f\"],[0.2222222222222222,\"#7201a8\"],[0.3333333333333333,\"#9c179e\"],[0.4444444444444444,\"#bd3786\"],[0.5555555555555556,\"#d8576b\"],[0.6666666666666666,\"#ed7953\"],[0.7777777777777778,\"#fb9f3a\"],[0.8888888888888888,\"#fdca26\"],[1.0,\"#f0f921\"]],\"diverging\":[[0,\"#8e0152\"],[0.1,\"#c51b7d\"],[0.2,\"#de77ae\"],[0.3,\"#f1b6da\"],[0.4,\"#fde0ef\"],[0.5,\"#f7f7f7\"],[0.6,\"#e6f5d0\"],[0.7,\"#b8e186\"],[0.8,\"#7fbc41\"],[0.9,\"#4d9221\"],[1,\"#276419\"]]},\"xaxis\":{\"gridcolor\":\"white\",\"linecolor\":\"white\",\"ticks\":\"\",\"title\":{\"standoff\":15},\"zerolinecolor\":\"white\",\"automargin\":true,\"zerolinewidth\":2},\"yaxis\":{\"gridcolor\":\"white\",\"linecolor\":\"white\",\"ticks\":\"\",\"title\":{\"standoff\":15},\"zerolinecolor\":\"white\",\"automargin\":true,\"zerolinewidth\":2},\"scene\":{\"xaxis\":{\"backgroundcolor\":\"#E5ECF6\",\"gridcolor\":\"white\",\"linecolor\":\"white\",\"showbackground\":true,\"ticks\":\"\",\"zerolinecolor\":\"white\",\"gridwidth\":2},\"yaxis\":{\"backgroundcolor\":\"#E5ECF6\",\"gridcolor\":\"white\",\"linecolor\":\"white\",\"showbackground\":true,\"ticks\":\"\",\"zerolinecolor\":\"white\",\"gridwidth\":2},\"zaxis\":{\"backgroundcolor\":\"#E5ECF6\",\"gridcolor\":\"white\",\"linecolor\":\"white\",\"showbackground\":true,\"ticks\":\"\",\"zerolinecolor\":\"white\",\"gridwidth\":2}},\"shapedefaults\":{\"line\":{\"color\":\"#2a3f5f\"}},\"annotationdefaults\":{\"arrowcolor\":\"#2a3f5f\",\"arrowhead\":0,\"arrowwidth\":1},\"geo\":{\"bgcolor\":\"white\",\"landcolor\":\"#E5ECF6\",\"subunitcolor\":\"white\",\"showland\":true,\"showlakes\":true,\"lakecolor\":\"white\"},\"title\":{\"x\":0.05},\"mapbox\":{\"style\":\"light\"}}},\"xaxis\":{\"anchor\":\"y\",\"domain\":[0.0,1.0],\"title\":{\"text\":\"index\"}},\"yaxis\":{\"anchor\":\"x\",\"domain\":[0.0,1.0],\"title\":{\"text\":\"Frequency\"}},\"legend\":{\"tracegroupgap\":0},\"title\":{\"text\":\"Top Aspect Terms Contributing to 80% of Negative Sentiment\"},\"barmode\":\"relative\"},                        {\"responsive\": true}                    ).then(function(){\n",
       "                            \n",
       "var gd = document.getElementById('33147aea-8fa9-4963-9477-b47b5cd25f58');\n",
       "var x = new MutationObserver(function (mutations, observer) {{\n",
       "        var display = window.getComputedStyle(gd).display;\n",
       "        if (!display || display === 'none') {{\n",
       "            console.log([gd, 'removed!']);\n",
       "            Plotly.purge(gd);\n",
       "            observer.disconnect();\n",
       "        }}\n",
       "}});\n",
       "\n",
       "// Listen for the removal of the full notebook cells\n",
       "var notebookContainer = gd.closest('#notebook-container');\n",
       "if (notebookContainer) {{\n",
       "    x.observe(notebookContainer, {childList: true});\n",
       "}}\n",
       "\n",
       "// Listen for the clearing of the current output cell\n",
       "var outputEl = gd.closest('.output');\n",
       "if (outputEl) {{\n",
       "    x.observe(outputEl, {childList: true});\n",
       "}}\n",
       "\n",
       "                        })                };                });            </script>        </div>"
      ]
     },
     "metadata": {},
     "output_type": "display_data"
    }
   ],
   "source": [
    "# Extract negative aspect terms and their counts\n",
    "negative_terms = []\n",
    "for sample in data:\n",
    "    for aspect in sample['aspects']:\n",
    "        if aspect['polarity'] == 'negative':\n",
    "            negative_terms.append(aspect['term'].lower())\n",
    "\n",
    "# Count frequency of negative aspect terms\n",
    "negative_term_counts = pd.Series(negative_terms).value_counts()\n",
    "\n",
    "# Calculate cumulative percentage\n",
    "cumulative_percentage = negative_term_counts.cumsum() / negative_term_counts.sum()\n",
    "\n",
    "# Apply the 80/20 rule\n",
    "top_80_percent_terms = negative_term_counts[cumulative_percentage <= 0.8]\n",
    "\n",
    "# Plot the chart\n",
    "fig = px.bar(top_80_percent_terms, x=top_80_percent_terms.index, y=top_80_percent_terms.values,\n",
    "             title='Top Aspect Terms Contributing to 80% of Negative Sentiment',\n",
    "             labels={'x': 'Aspect Terms', 'y': 'Frequency'})\n",
    "\n",
    "# Customize hover template to show count and cumulative percentage\n",
    "hover_template = 'Term: %{x}<br>Count: %{y}<br>Cumulative %: %{customdata:.2f}%<extra></extra>'\n",
    "fig.update_traces(customdata=cumulative_percentage[cumulative_percentage <= 0.8], hovertemplate=hover_template)\n",
    "\n",
    "# Show the plot\n",
    "fig.show()\n"
   ]
  },
  {
   "cell_type": "code",
   "execution_count": 69,
   "id": "576f8741-c058-48e2-8219-df7cf5b3c829",
   "metadata": {},
   "outputs": [
    {
     "name": "stdout",
     "output_type": "stream",
     "text": [
      "Review 1: Besides having the table we had been promised given to other restaurant patrons twice before we were actually seated, we were served dishes we hadn't ordered three times, received one of our orders 20 minutes after the rest of the table had been served (and that order was undercooked), and charged $45 more than we should have been on our bill.\n",
      "-----\n",
      "Review 2: On the other hand, if you are not fooled easily, you will find hundreds of restaurants that will give you service and ambiance that is on par with Alain Ducasse, and food that will outshine in presentaion, taste, choice, quality and quantity.\n",
      "-----\n",
      "Review 3: But don't ever order bacon late at nite (either platter or in sandwiches, for that matter don't from any take out place) as it is from the morning frying turns out hard almost like bacos, hurt my molars.\n",
      "-----\n",
      "Review 4: With so many good restaurants on the UWS, I don't need overpriced food, absurdly arrogant wait-staff who don't recognize they work at a glorified diner, clumsy service, and management that doesn't care.\n",
      "-----\n",
      "Review 5: The menu changed, portions were even smaller than before, a lentil dish was salty beyond edibility, a basmati rice dish lacked flavor.\n",
      "-----\n",
      "Review 6: Everything, from the soft bread, soggy salad, and 50 minute wait time, with an incredibly rude service to deliver below average food.\n",
      "-----\n",
      "Review 7: (food was delivered by a busboy, not waiter) We got no cheese offered for the pasta, our water and wine glasses remained EMPTY our entire meal, when we would have easily spent another $20 on wine.\n",
      "-----\n",
      "Review 8: I must warn the reader that the portions sizes are very small (especially the appetizers), so if you plan to eat until you are full and do not intend to order the chef's special tasting menu, prepare to order and pay for an appetizer (1 dish for each person because the portions are not for sharing), a main entree, and the cold udon at the end of the meal.\n",
      "-----\n",
      "Review 9: The chicken parm was edible but had canned tomato sauce and boxed pasta and the chicken with portobello mushrooms consisted of dry, inedible chicken with terrible sauce.\n",
      "-----\n",
      "Review 10: They did not have mayonnaise, forgot our toast, left out ingredients (ie cheese in an omelet), below hot temperatures and the bacon was so over cooked it crumbled on the plate when you touched it.\n",
      "-----\n"
     ]
    }
   ],
   "source": [
    "# Count the number of negative aspects in each review\n",
    "review_neg_counts = []\n",
    "for sample in data:\n",
    "    neg_count = sum(1 for aspect in sample['aspects'] if aspect['polarity'] == 'negative')\n",
    "    review_neg_counts.append((sample['text'], neg_count))\n",
    "\n",
    "# Sort the reviews by the count of negative aspects in descending order\n",
    "review_neg_counts_sorted = sorted(review_neg_counts, key=lambda x: x[1], reverse=True)\n",
    "\n",
    "# Extract the top 10 most negative reviews\n",
    "top_10_negative_reviews = [review for review, count in review_neg_counts_sorted[:10]]\n",
    "\n",
    "# Print the top 10 negative reviews\n",
    "for idx, review in enumerate(top_10_negative_reviews, start=1):\n",
    "    print(f\"Review {idx}: {review}\")\n",
    "    print(\"-----\")\n"
   ]
  },
  {
   "cell_type": "code",
   "execution_count": null,
   "id": "ca08b26e-a845-410f-a3e9-81313a135acd",
   "metadata": {},
   "outputs": [],
   "source": []
  }
 ],
 "metadata": {
  "kernelspec": {
   "display_name": "Python 3 (ipykernel)",
   "language": "python",
   "name": "python3"
  },
  "language_info": {
   "codemirror_mode": {
    "name": "ipython",
    "version": 3
   },
   "file_extension": ".py",
   "mimetype": "text/x-python",
   "name": "python",
   "nbconvert_exporter": "python",
   "pygments_lexer": "ipython3",
   "version": "3.11.7"
  }
 },
 "nbformat": 4,
 "nbformat_minor": 5
}
